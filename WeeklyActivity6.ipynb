{
 "cells": [
  {
   "cell_type": "code",
   "execution_count": 1,
   "id": "b682f159",
   "metadata": {},
   "outputs": [
    {
     "data": {
      "text/html": [
       "<div>\n",
       "<style scoped>\n",
       "    .dataframe tbody tr th:only-of-type {\n",
       "        vertical-align: middle;\n",
       "    }\n",
       "\n",
       "    .dataframe tbody tr th {\n",
       "        vertical-align: top;\n",
       "    }\n",
       "\n",
       "    .dataframe thead th {\n",
       "        text-align: right;\n",
       "    }\n",
       "</style>\n",
       "<table border=\"1\" class=\"dataframe\">\n",
       "  <thead>\n",
       "    <tr style=\"text-align: right;\">\n",
       "      <th></th>\n",
       "      <th>country</th>\n",
       "      <th>Region</th>\n",
       "      <th>Surface area (km2)</th>\n",
       "      <th>Population in thousands (2017)</th>\n",
       "      <th>GDP per capita (current US$)</th>\n",
       "      <th>Agricultural production index</th>\n",
       "      <th>International trade: Imports (million US$)</th>\n",
       "    </tr>\n",
       "  </thead>\n",
       "  <tbody>\n",
       "    <tr>\n",
       "      <th>0</th>\n",
       "      <td>Afghanistan</td>\n",
       "      <td>SouthernAsia</td>\n",
       "      <td>652864</td>\n",
       "      <td>35530</td>\n",
       "      <td>623.2</td>\n",
       "      <td>125</td>\n",
       "      <td>3568</td>\n",
       "    </tr>\n",
       "    <tr>\n",
       "      <th>1</th>\n",
       "      <td>Albania</td>\n",
       "      <td>SouthernEurope</td>\n",
       "      <td>28748</td>\n",
       "      <td>2930</td>\n",
       "      <td>3984.2</td>\n",
       "      <td>134</td>\n",
       "      <td>4669</td>\n",
       "    </tr>\n",
       "    <tr>\n",
       "      <th>2</th>\n",
       "      <td>Algeria</td>\n",
       "      <td>NorthernAfrica</td>\n",
       "      <td>2381741</td>\n",
       "      <td>41318</td>\n",
       "      <td>4154.1</td>\n",
       "      <td>160</td>\n",
       "      <td>47091</td>\n",
       "    </tr>\n",
       "    <tr>\n",
       "      <th>3</th>\n",
       "      <td>Angola</td>\n",
       "      <td>MiddleAfrica</td>\n",
       "      <td>1246700</td>\n",
       "      <td>29784</td>\n",
       "      <td>4714.1</td>\n",
       "      <td>175</td>\n",
       "      <td>8790</td>\n",
       "    </tr>\n",
       "    <tr>\n",
       "      <th>4</th>\n",
       "      <td>Antigua and Barbuda</td>\n",
       "      <td>Caribbean</td>\n",
       "      <td>442</td>\n",
       "      <td>102</td>\n",
       "      <td>14764.5</td>\n",
       "      <td>88</td>\n",
       "      <td>491</td>\n",
       "    </tr>\n",
       "  </tbody>\n",
       "</table>\n",
       "</div>"
      ],
      "text/plain": [
       "               country          Region  Surface area (km2)  \\\n",
       "0          Afghanistan    SouthernAsia              652864   \n",
       "1              Albania  SouthernEurope               28748   \n",
       "2              Algeria  NorthernAfrica             2381741   \n",
       "3               Angola    MiddleAfrica             1246700   \n",
       "4  Antigua and Barbuda       Caribbean                 442   \n",
       "\n",
       "   Population in thousands (2017)  GDP per capita (current US$)  \\\n",
       "0                           35530                         623.2   \n",
       "1                            2930                        3984.2   \n",
       "2                           41318                        4154.1   \n",
       "3                           29784                        4714.1   \n",
       "4                             102                       14764.5   \n",
       "\n",
       "   Agricultural production index   International trade: Imports (million US$)  \n",
       "0                             125                                        3568  \n",
       "1                             134                                        4669  \n",
       "2                             160                                       47091  \n",
       "3                             175                                        8790  \n",
       "4                              88                                         491  "
      ]
     },
     "execution_count": 1,
     "metadata": {},
     "output_type": "execute_result"
    }
   ],
   "source": [
    "import seaborn as sns\n",
    "import matplotlib.pyplot as plt\n",
    "import numpy as np\n",
    "import pandas as pd\n",
    "df=pd.read_csv('Dataset_w6.xlsx - Data.csv')\n",
    "df.head()"
   ]
  },
  {
   "cell_type": "code",
   "execution_count": 2,
   "id": "97e47e14",
   "metadata": {},
   "outputs": [
    {
     "name": "stdout",
     "output_type": "stream",
     "text": [
      "<class 'pandas.core.frame.DataFrame'>\n",
      "RangeIndex: 196 entries, 0 to 195\n",
      "Data columns (total 7 columns):\n",
      " #   Column                                      Non-Null Count  Dtype  \n",
      "---  ------                                      --------------  -----  \n",
      " 0   country                                     196 non-null    object \n",
      " 1   Region                                      196 non-null    object \n",
      " 2   Surface area (km2)                          196 non-null    int64  \n",
      " 3   Population in thousands (2017)              196 non-null    int64  \n",
      " 4   GDP per capita (current US$)                196 non-null    float64\n",
      " 5   Agricultural production index               196 non-null    int64  \n",
      " 6   International trade: Imports (million US$)  196 non-null    int64  \n",
      "dtypes: float64(1), int64(4), object(2)\n",
      "memory usage: 10.8+ KB\n"
     ]
    }
   ],
   "source": [
    "df.info()"
   ]
  },
  {
   "cell_type": "code",
   "execution_count": 3,
   "id": "333dc47a",
   "metadata": {},
   "outputs": [
    {
     "data": {
      "text/plain": [
       "country                                       0\n",
       "Region                                        0\n",
       "Surface area (km2)                            0\n",
       "Population in thousands (2017)                0\n",
       "GDP per capita (current US$)                  0\n",
       "Agricultural production index                 0\n",
       "International trade: Imports (million US$)    0\n",
       "dtype: int64"
      ]
     },
     "execution_count": 3,
     "metadata": {},
     "output_type": "execute_result"
    }
   ],
   "source": [
    "df.isna().sum()"
   ]
  },
  {
   "cell_type": "markdown",
   "id": "727d7292",
   "metadata": {},
   "source": [
    "**No of countries in the data set**"
   ]
  },
  {
   "cell_type": "code",
   "execution_count": 4,
   "id": "aa31b78e",
   "metadata": {},
   "outputs": [
    {
     "data": {
      "text/plain": [
       "196"
      ]
     },
     "execution_count": 4,
     "metadata": {},
     "output_type": "execute_result"
    }
   ],
   "source": [
    "df['country'].nunique()"
   ]
  },
  {
   "cell_type": "markdown",
   "id": "7bb4c1e8",
   "metadata": {},
   "source": [
    "## Data visualisations"
   ]
  },
  {
   "cell_type": "code",
   "execution_count": 5,
   "id": "ae50f156",
   "metadata": {},
   "outputs": [
    {
     "data": {
      "image/png": "[encoded data removed]",
      "text/plain": [
       "<Figure size 432x288 with 1 Axes>"
      ]
     },
     "metadata": {
      "needs_background": "light"
     },
     "output_type": "display_data"
    }
   ],
   "source": [
    "sns.barplot(x='Region',y='International trade: Imports (million US$)',data=df)\n",
    "plt.title('Region Vs Imports')\n",
    "plt.xticks(rotation=90)\n",
    "plt.show()"
   ]
  },
  {
   "cell_type": "code",
   "execution_count": 6,
   "id": "ef8da243",
   "metadata": {},
   "outputs": [
    {
     "data": {
      "text/plain": [
       "117.06632653061224"
      ]
     },
     "execution_count": 6,
     "metadata": {},
     "output_type": "execute_result"
    }
   ],
   "source": [
    "df['Agricultural production index '].mean()"
   ]
  },
  {
   "cell_type": "code",
   "execution_count": 7,
   "id": "77697f42",
   "metadata": {},
   "outputs": [
    {
     "data": {
      "image/png": "[encoded data removed]",
      "text/plain": [
       "<Figure size 432x288 with 1 Axes>"
      ]
     },
     "metadata": {
      "needs_background": "light"
     },
     "output_type": "display_data"
    }
   ],
   "source": [
    "sns.barplot(x='Region',y='Agricultural production index ',data=df)\n",
    "plt.xticks(rotation=90)\n",
    "plt.show()"
   ]
  },
  {
   "cell_type": "markdown",
   "id": "eb8bf266",
   "metadata": {},
   "source": [
    "**No. of countries wrt regions**"
   ]
  },
  {
   "cell_type": "code",
   "execution_count": 8,
   "id": "1a649314",
   "metadata": {},
   "outputs": [
    {
     "data": {
      "text/plain": [
       "WesternAsia          18\n",
       "EasternAfrica        17\n",
       "Caribbean            16\n",
       "WesternAfrica        15\n",
       "SouthernEurope       12\n",
       "SouthAmerica         12\n",
       "South-easternAsia    11\n",
       "NorthernEurope       10\n",
       "EasternEurope        10\n",
       "MiddleAfrica          9\n",
       "SouthernAsia          9\n",
       "CentralAmerica        8\n",
       "EasternAsia           7\n",
       "WesternEurope         7\n",
       "Melanesia             5\n",
       "NorthernAfrica        5\n",
       "CentralAsia           5\n",
       "SouthernAfrica        5\n",
       "Polynesia             5\n",
       "NorthernAmerica       4\n",
       "Micronesia            4\n",
       "Oceania               2\n",
       "Name: Region, dtype: int64"
      ]
     },
     "execution_count": 8,
     "metadata": {},
     "output_type": "execute_result"
    }
   ],
   "source": [
    "df['Region'].value_counts()"
   ]
  },
  {
   "cell_type": "code",
   "execution_count": 9,
   "id": "1011eca1",
   "metadata": {},
   "outputs": [
    {
     "data": {
      "text/plain": [
       "<AxesSubplot:xlabel='Count', ylabel='Region'>"
      ]
     },
     "execution_count": 9,
     "metadata": {},
     "output_type": "execute_result"
    },
    {
     "data": {
      "image/png": "[encoded data removed]",
      "text/plain": [
       "<Figure size 432x288 with 1 Axes>"
      ]
     },
     "metadata": {
      "needs_background": "light"
     },
     "output_type": "display_data"
    }
   ],
   "source": [
    "sns.histplot(y='Region',data=df)"
   ]
  },
  {
   "cell_type": "markdown",
   "id": "3f7eb77c",
   "metadata": {},
   "source": [
    " **Region with highest GDP and Imports**"
   ]
  },
  {
   "cell_type": "code",
   "execution_count": 10,
   "id": "bcf07d11",
   "metadata": {},
   "outputs": [
    {
     "data": {
      "text/plain": [
       "Region\n",
       "NorthernAmerica    57659.000000\n",
       "WesternEurope      55387.128571\n",
       "Oceania            44823.250000\n",
       "NorthernEurope     42098.220000\n",
       "EasternAsia        27967.614286\n",
       "Name: GDP per capita (current US$), dtype: float64"
      ]
     },
     "execution_count": 10,
     "metadata": {},
     "output_type": "execute_result"
    }
   ],
   "source": [
    "dfg=df.groupby('Region')['GDP per capita (current US$)'].mean()\n",
    "dfg.sort_values(ascending=False).head()"
   ]
  },
  {
   "cell_type": "code",
   "execution_count": 11,
   "id": "8202066e",
   "metadata": {},
   "outputs": [
    {
     "data": {
      "text/plain": [
       "Region\n",
       "NorthernAmerica    663552.250000\n",
       "EasternAsia        451995.000000\n",
       "WesternEurope      407498.428571\n",
       "NorthernEurope     113407.200000\n",
       "Oceania            112914.500000\n",
       "Name: International trade: Imports (million US$), dtype: float64"
      ]
     },
     "execution_count": 11,
     "metadata": {},
     "output_type": "execute_result"
    }
   ],
   "source": [
    "dfi=df.groupby('Region')['International trade: Imports (million US$)'].mean()\n",
    "dfi.sort_values(ascending=False).head()"
   ]
  },
  {
   "cell_type": "markdown",
   "id": "a9c3881f",
   "metadata": {},
   "source": [
    "**Northern America has highest average GDP with value 57659 and Imports with value 663552**"
   ]
  },
  {
   "cell_type": "markdown",
   "id": "88fbcaae",
   "metadata": {},
   "source": [
    "### Region which is consistent with respect to GDP"
   ]
  },
  {
   "cell_type": "code",
   "execution_count": 17,
   "id": "aeb1b592",
   "metadata": {
    "scrolled": true
   },
   "outputs": [
    {
     "data": {
      "text/html": [
       "<div>\n",
       "<style scoped>\n",
       "    .dataframe tbody tr th:only-of-type {\n",
       "        vertical-align: middle;\n",
       "    }\n",
       "\n",
       "    .dataframe tbody tr th {\n",
       "        vertical-align: top;\n",
       "    }\n",
       "\n",
       "    .dataframe thead th {\n",
       "        text-align: right;\n",
       "    }\n",
       "</style>\n",
       "<table border=\"1\" class=\"dataframe\">\n",
       "  <thead>\n",
       "    <tr style=\"text-align: right;\">\n",
       "      <th></th>\n",
       "      <th>count</th>\n",
       "      <th>mean</th>\n",
       "      <th>std</th>\n",
       "      <th>min</th>\n",
       "      <th>25%</th>\n",
       "      <th>50%</th>\n",
       "      <th>75%</th>\n",
       "      <th>max</th>\n",
       "      <th>CV</th>\n",
       "    </tr>\n",
       "    <tr>\n",
       "      <th>Region</th>\n",
       "      <th></th>\n",
       "      <th></th>\n",
       "      <th></th>\n",
       "      <th></th>\n",
       "      <th></th>\n",
       "      <th></th>\n",
       "      <th></th>\n",
       "      <th></th>\n",
       "      <th></th>\n",
       "    </tr>\n",
       "  </thead>\n",
       "  <tbody>\n",
       "    <tr>\n",
       "      <th>Oceania</th>\n",
       "      <td>2.0</td>\n",
       "      <td>44823.250000</td>\n",
       "      <td>9233.329638</td>\n",
       "      <td>38294.3</td>\n",
       "      <td>41558.775</td>\n",
       "      <td>44823.25</td>\n",
       "      <td>48087.725</td>\n",
       "      <td>51352.2</td>\n",
       "      <td>20.599420</td>\n",
       "    </tr>\n",
       "    <tr>\n",
       "      <th>NorthernAfrica</th>\n",
       "      <td>5.0</td>\n",
       "      <td>3934.960000</td>\n",
       "      <td>974.706575</td>\n",
       "      <td>2919.3</td>\n",
       "      <td>3452.300</td>\n",
       "      <td>3660.90</td>\n",
       "      <td>4154.100</td>\n",
       "      <td>5488.2</td>\n",
       "      <td>24.770432</td>\n",
       "    </tr>\n",
       "    <tr>\n",
       "      <th>NorthernAmerica</th>\n",
       "      <td>4.0</td>\n",
       "      <td>57659.000000</td>\n",
       "      <td>25749.619445</td>\n",
       "      <td>36976.7</td>\n",
       "      <td>41648.375</td>\n",
       "      <td>49629.70</td>\n",
       "      <td>65640.325</td>\n",
       "      <td>94399.9</td>\n",
       "      <td>44.658457</td>\n",
       "    </tr>\n",
       "    <tr>\n",
       "      <th>WesternEurope</th>\n",
       "      <td>7.0</td>\n",
       "      <td>55387.128571</td>\n",
       "      <td>24770.467728</td>\n",
       "      <td>36304.2</td>\n",
       "      <td>40982.000</td>\n",
       "      <td>44117.70</td>\n",
       "      <td>62581.600</td>\n",
       "      <td>100160.8</td>\n",
       "      <td>44.722426</td>\n",
       "    </tr>\n",
       "    <tr>\n",
       "      <th>NorthernEurope</th>\n",
       "      <td>10.0</td>\n",
       "      <td>42098.220000</td>\n",
       "      <td>20671.030185</td>\n",
       "      <td>13704.1</td>\n",
       "      <td>23371.025</td>\n",
       "      <td>47424.95</td>\n",
       "      <td>52595.975</td>\n",
       "      <td>74185.5</td>\n",
       "      <td>49.101910</td>\n",
       "    </tr>\n",
       "  </tbody>\n",
       "</table>\n",
       "</div>"
      ],
      "text/plain": [
       "                 count          mean           std      min        25%  \\\n",
       "Region                                                                   \n",
       "Oceania            2.0  44823.250000   9233.329638  38294.3  41558.775   \n",
       "NorthernAfrica     5.0   3934.960000    974.706575   2919.3   3452.300   \n",
       "NorthernAmerica    4.0  57659.000000  25749.619445  36976.7  41648.375   \n",
       "WesternEurope      7.0  55387.128571  24770.467728  36304.2  40982.000   \n",
       "NorthernEurope    10.0  42098.220000  20671.030185  13704.1  23371.025   \n",
       "\n",
       "                      50%        75%       max         CV  \n",
       "Region                                                     \n",
       "Oceania          44823.25  48087.725   51352.2  20.599420  \n",
       "NorthernAfrica    3660.90   4154.100    5488.2  24.770432  \n",
       "NorthernAmerica  49629.70  65640.325   94399.9  44.658457  \n",
       "WesternEurope    44117.70  62581.600  100160.8  44.722426  \n",
       "NorthernEurope   47424.95  52595.975   74185.5  49.101910  "
      ]
     },
     "execution_count": 17,
     "metadata": {},
     "output_type": "execute_result"
    }
   ],
   "source": [
    "dfc=df.groupby('Region')['GDP per capita (current US$)'].describe()\n",
    "dfc['CV']= (dfc['std']/dfc['mean'])*100\n",
    "dfc.sort_values(by='CV').head()"
   ]
  },
  {
   "cell_type": "markdown",
   "id": "5005ffa6",
   "metadata": {},
   "source": [
    " when coefficient of variation (cv) decreases consistency increases."
   ]
  },
  {
   "cell_type": "markdown",
   "id": "512b41b7",
   "metadata": {},
   "source": [
    "**Oceania is the most consistent region with respect to GDP**"
   ]
  },
  {
   "cell_type": "code",
   "execution_count": null,
   "id": "af84d060",
   "metadata": {},
   "outputs": [],
   "source": []
  }
 ],
 "metadata": {
  "kernelspec": {
   "display_name": "Python 3",
   "language": "python",
   "name": "python3"
  },
  "language_info": {
   "codemirror_mode": {
    "name": "ipython",
    "version": 3
   },
   "file_extension": ".py",
   "mimetype": "text/x-python",
   "name": "python",
   "nbconvert_exporter": "python",
   "pygments_lexer": "ipython3",
   "version": "3.8.8"
  }
 },
 "nbformat": 4,
 "nbformat_minor": 5
}
