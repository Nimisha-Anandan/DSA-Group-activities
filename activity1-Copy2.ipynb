{
 "cells": [
  {
   "cell_type": "markdown",
   "metadata": {
    "id": "4z_Z-K1tlrS7"
   },
   "source": [
    "## 1. Complete the following code to find the area of an equilateral triangle. Output should be as displayed"
   ]
  },
  {
   "cell_type": "code",
   "execution_count": 4,
   "metadata": {
    "id": "rP2qFD_SlrS_"
   },
   "outputs": [
    {
     "name": "stdout",
     "output_type": "stream",
     "text": [
      "Enter the side of the equilateral triangle: 6\n",
      "Area of corresponding triangle is 15.59 Sq.units\n"
     ]
    }
   ],
   "source": [
    "import math\n",
    "side = float(input(\"Enter the side of the equilateral triangle: \"))\n",
    "area = ((math.sqrt(3))/4)*pow(side,2)\n",
    "print(\"Area of corresponding triangle is\",round(area,2),\"Sq.units\")\n"
   ]
  },
  {
   "cell_type": "markdown",
   "metadata": {
    "id": "TjVKjIfclrTB"
   },
   "source": [
    "## 2. Write a program to count the number of each characters in a string"
   ]
  },
  {
   "cell_type": "code",
   "execution_count": 6,
   "metadata": {
    "id": "JY5seVUQlrTC"
   },
   "outputs": [
    {
     "name": "stdout",
     "output_type": "stream",
     "text": [
      "Enter a sentance :USA is United STates of America\n",
      "U = 2\tS = 4\tA = 4\tI = 3\tN = 1\tT = 3\tE = 3\tD = 1\tO = 1\tF = 1\tM = 1\tR = 1\tC = 1\t"
     ]
    }
   ],
   "source": [
    "str=input(\"Enter a sentance :\")\n",
    "str=str.upper()\n",
    "for char in str:\n",
    "    if len(str)==0:\n",
    "        break\n",
    "    char=str[0]\n",
    "    if char==' ':\n",
    "        continue\n",
    "    print(char,\"=\",str.count(char),end=\"\\t\")\n",
    "    str=str.replace(char,' ').strip()"
   ]
  },
  {
   "cell_type": "markdown",
   "metadata": {
    "id": "l3LCULfklrTD"
   },
   "source": [
    "## Write a program to find the area and perimeter of a rectangle using functions"
   ]
  },
  {
   "cell_type": "code",
   "execution_count": 1,
   "metadata": {
    "id": "8haQD8edlrTD"
   },
   "outputs": [
    {
     "name": "stdout",
     "output_type": "stream",
     "text": [
      "Area of the rectangle is: 56 sq.units\n",
      "Perimeter of the rectangle is: 30 units\n"
     ]
    }
   ],
   "source": [
    "def area_rec(x,y):\n",
    "    a=x*y\n",
    "    print(\"Area of the rectangle is:\",a,\"sq.units\")\n",
    "          \n",
    "def peri_rec(x,y):\n",
    "    p=2*(x+y)\n",
    "    print(\"Perimeter of the rectangle is:\",p,\"units\")\n",
    "    \n",
    "area_rec(7,8)\n",
    "peri_rec(7,8)\n"
   ]
  },
  {
   "cell_type": "markdown",
   "metadata": {
    "id": "JHK4ZdsflrTE"
   },
   "source": [
    "## 4. Write a program to print the fibonacci series till a specified number"
   ]
  },
  {
   "cell_type": "code",
   "execution_count": 7,
   "metadata": {
    "id": "LyBEj-4SlrTE"
   },
   "outputs": [
    {
     "name": "stdout",
     "output_type": "stream",
     "text": [
      "0 1 1 2 3 5 8 13 21 34 55 89 144 233 377 610 987 1597 2584 4181 "
     ]
    }
   ],
   "source": [
    "def f(n):\n",
    "    n1=0\n",
    "    n2=1\n",
    "    sum=0\n",
    "    for i in range(n):\n",
    "        print(sum,end=\" \")\n",
    "        n1=n2\n",
    "        n2=sum\n",
    "        sum=n1+n2\n",
    "\n",
    "f(20)  "
   ]
  },
  {
   "cell_type": "markdown",
   "metadata": {
    "id": "u4uBUcQKlrTE"
   },
   "source": [
    "## 5. Complete the following code to find the minimum of 3 number using cinditional statements. Output should be as displayed"
   ]
  },
  {
   "cell_type": "code",
   "execution_count": 11,
   "metadata": {
    "id": "XdZwrZjIlrTF"
   },
   "outputs": [
    {
     "name": "stdout",
     "output_type": "stream",
     "text": [
      "Enter three numbers followed by  : 10 5 2\n",
      "First number : 10\n",
      "Second number : 5\n",
      "Third number : 2\n",
      "2  is smallest\n"
     ]
    }
   ],
   "source": [
    "a,b,c =input(\"Enter three numbers followed by  : \").split()\n",
    "a=int(a)\n",
    "b=int(b)\n",
    "c=int(c)\n",
    "print(\"First number :\",a)\n",
    "print(\"Second number :\",b)\n",
    "print(\"Third number :\",c)\n",
    "if a==b==c:\n",
    "    print(\"Entered numbers are equal!!!\")\n",
    "elif a<b and a<c:\n",
    "    print(a,\" is smallest\")\n",
    "elif b<a and b<c:\n",
    "    print(b,\" is smallest\")\n",
    "else:\n",
    "    print(c,\" is smallest\")"
   ]
  },
  {
   "cell_type": "markdown",
   "metadata": {
    "id": "aR_CnToWlrTG"
   },
   "source": [
    "## 6. Write a program to print star pyramind. The number of rows should be taken as input from the user"
   ]
  },
  {
   "cell_type": "code",
   "execution_count": 1,
   "metadata": {
    "id": "M37A-buplrTG"
   },
   "outputs": [
    {
     "name": "stdout",
     "output_type": "stream",
     "text": [
      "Enter the number of rows:5\n",
      "     * \n",
      "    * * \n",
      "   * * * \n",
      "  * * * * \n",
      " * * * * * \n"
     ]
    }
   ],
   "source": [
    "row=int(input(\"Enter the number of rows:\"))\n",
    "for i in range(row):\n",
    "    for s in range(i,row):\n",
    "        print(end=\" \")\n",
    "    for j in range(i+1):\n",
    "        print(end=\"* \")\n",
    "    print()\n"
   ]
  },
  {
   "cell_type": "markdown",
   "metadata": {
    "id": "tlY6aFWBlrTH"
   },
   "source": [
    "## 7. Complete the following code to convert hour into seconds. Output should be as displayed"
   ]
  },
  {
   "cell_type": "code",
   "execution_count": 18,
   "metadata": {
    "id": "YOZQFk7FlrTH"
   },
   "outputs": [
    {
     "name": "stdout",
     "output_type": "stream",
     "text": [
      "Enter the hour to be converted:1\n",
      "1.0  Hour is equal to 3600.0  Seconds\n"
     ]
    }
   ],
   "source": [
    "def to_seconds(t):\n",
    "    t=t*60*60\n",
    "    return t\n",
    "time_in_hours = float(input(\"Enter the hour to be converted:\")) \n",
    "print(time_in_hours ,\" Hour is equal to\" ,to_seconds(time_in_hours) ,\" Seconds\")"
   ]
  },
  {
   "cell_type": "markdown",
   "metadata": {
    "id": "CnYorNiLlrTI"
   },
   "source": [
    "## 8. Write a program to print multiplication table as below"
   ]
  },
  {
   "cell_type": "code",
   "execution_count": 4,
   "metadata": {
    "id": "dPQqDPuDlrTI"
   },
   "outputs": [
    {
     "name": "stdout",
     "output_type": "stream",
     "text": [
      "Enter the number for multiplication :5\n",
      "1 * 5 = 5\n",
      "2 * 5 = 10\n",
      "3 * 5 = 15\n",
      "4 * 5 = 20\n",
      "5 * 5 = 25\n",
      "6 * 5 = 30\n",
      "7 * 5 = 35\n",
      "8 * 5 = 40\n",
      "9 * 5 = 45\n",
      "10 * 5 = 50\n"
     ]
    }
   ],
   "source": [
    "n=int(input(\"Enter the number for multiplication :\"))\n",
    "for i in range(1,11):\n",
    "    print(i,\"*\",n,\"=\",i*n)"
   ]
  },
  {
   "cell_type": "markdown",
   "metadata": {
    "id": "Fiaez8iblrTI"
   },
   "source": [
    "## 9. Write a program to take your 5 favorite food as list and print each as 'I like Biriyani'"
   ]
  },
  {
   "cell_type": "code",
   "execution_count": 5,
   "metadata": {
    "id": "39W1zFX7lrTJ"
   },
   "outputs": [
    {
     "name": "stdout",
     "output_type": "stream",
     "text": [
      "Enter your favourite food:biryani\n",
      "Enter your favourite food:dosa\n",
      "Enter your favourite food:porotta\n",
      "Enter your favourite food:samosa\n",
      "Enter your favourite food:icecream\n",
      "['biryani', 'dosa', 'porotta', 'samosa', 'icecream']\n",
      "I Like biryani\n",
      "I Like dosa\n",
      "I Like porotta\n",
      "I Like samosa\n",
      "I Like icecream\n"
     ]
    }
   ],
   "source": [
    "food=[]\n",
    "for i in range(5):\n",
    "    food.append(input(\"Enter your favourite food:\"))\n",
    "print(food)\n",
    "for i in food:\n",
    "    print(\"I Like\",i)\n"
   ]
  },
  {
   "cell_type": "markdown",
   "metadata": {
    "id": "3vlcDNNEP7d_"
   },
   "source": [
    "## 10. Find error(s) in the following code(if any) and rewrite code.\n",
    "\n"
   ]
  },
  {
   "cell_type": "code",
   "execution_count": 20,
   "metadata": {},
   "outputs": [
    {
     "name": "stdout",
     "output_type": "stream",
     "text": [
      "Enter the value of x:6\n",
      "They are unequal\n"
     ]
    }
   ],
   "source": [
    "x=int(input(\"Enter the value of x:\"))\n",
    "y =[0,10]\n",
    "if x in y:\n",
    "        print(\"They are equal\")\n",
    "else:\n",
    "    print( \"They are unequal\")"
   ]
  }
 ],
 "metadata": {
  "colab": {
   "collapsed_sections": [],
   "name": "Q&A activity student file.ipynb",
   "provenance": []
  },
  "kernelspec": {
   "display_name": "Python 3",
   "language": "python",
   "name": "python3"
  },
  "language_info": {
   "codemirror_mode": {
    "name": "ipython",
    "version": 3
   },
   "file_extension": ".py",
   "mimetype": "text/x-python",
   "name": "python",
   "nbconvert_exporter": "python",
   "pygments_lexer": "ipython3",
   "version": "3.8.8"
  }
 },
 "nbformat": 4,
 "nbformat_minor": 1
}
