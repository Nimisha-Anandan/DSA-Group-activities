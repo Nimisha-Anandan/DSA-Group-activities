{
 "cells": [
  {
   "cell_type": "code",
   "execution_count": 1,
   "id": "7a656ed4",
   "metadata": {},
   "outputs": [],
   "source": [
    "import pandas as pd\n",
    "import numpy as np\n",
    "import matplotlib.pyplot as plt\n",
    "import seaborn as sns"
   ]
  },
  {
   "cell_type": "markdown",
   "id": "b36d6b4a",
   "metadata": {},
   "source": [
    "## Importing Online-Chess Dataset"
   ]
  },
  {
   "cell_type": "code",
   "execution_count": 2,
   "id": "9be527da",
   "metadata": {},
   "outputs": [
    {
     "data": {
      "text/html": [
       "<div>\n",
       "<style scoped>\n",
       "    .dataframe tbody tr th:only-of-type {\n",
       "        vertical-align: middle;\n",
       "    }\n",
       "\n",
       "    .dataframe tbody tr th {\n",
       "        vertical-align: top;\n",
       "    }\n",
       "\n",
       "    .dataframe thead th {\n",
       "        text-align: right;\n",
       "    }\n",
       "</style>\n",
       "<table border=\"1\" class=\"dataframe\">\n",
       "  <thead>\n",
       "    <tr style=\"text-align: right;\">\n",
       "      <th></th>\n",
       "      <th>rated</th>\n",
       "      <th>turns</th>\n",
       "      <th>victory_status</th>\n",
       "      <th>winner</th>\n",
       "      <th>time_increment</th>\n",
       "      <th>white_id</th>\n",
       "      <th>white_rating</th>\n",
       "      <th>black_id</th>\n",
       "      <th>black_rating</th>\n",
       "      <th>moves</th>\n",
       "      <th>opening_code</th>\n",
       "      <th>opening_moves</th>\n",
       "      <th>opening_fullname</th>\n",
       "      <th>opening_shortname</th>\n",
       "      <th>opening_response</th>\n",
       "      <th>opening_variation</th>\n",
       "    </tr>\n",
       "    <tr>\n",
       "      <th>game_id</th>\n",
       "      <th></th>\n",
       "      <th></th>\n",
       "      <th></th>\n",
       "      <th></th>\n",
       "      <th></th>\n",
       "      <th></th>\n",
       "      <th></th>\n",
       "      <th></th>\n",
       "      <th></th>\n",
       "      <th></th>\n",
       "      <th></th>\n",
       "      <th></th>\n",
       "      <th></th>\n",
       "      <th></th>\n",
       "      <th></th>\n",
       "      <th></th>\n",
       "    </tr>\n",
       "  </thead>\n",
       "  <tbody>\n",
       "    <tr>\n",
       "      <th>1</th>\n",
       "      <td>False</td>\n",
       "      <td>13</td>\n",
       "      <td>Out of Time</td>\n",
       "      <td>White</td>\n",
       "      <td>15+2</td>\n",
       "      <td>bourgris</td>\n",
       "      <td>1500</td>\n",
       "      <td>a-00</td>\n",
       "      <td>1191</td>\n",
       "      <td>d4 d5 c4 c6 cxd5 e6 dxe6 fxe6 Nf3 Bb4+ Nc3 Ba5...</td>\n",
       "      <td>D10</td>\n",
       "      <td>5</td>\n",
       "      <td>Slav Defense: Exchange Variation</td>\n",
       "      <td>Slav Defense</td>\n",
       "      <td>NaN</td>\n",
       "      <td>Exchange Variation</td>\n",
       "    </tr>\n",
       "    <tr>\n",
       "      <th>2</th>\n",
       "      <td>True</td>\n",
       "      <td>16</td>\n",
       "      <td>Resign</td>\n",
       "      <td>Black</td>\n",
       "      <td>5+10</td>\n",
       "      <td>a-00</td>\n",
       "      <td>1322</td>\n",
       "      <td>skinnerua</td>\n",
       "      <td>1261</td>\n",
       "      <td>d4 Nc6 e4 e5 f4 f6 dxe5 fxe5 fxe5 Nxe5 Qd4 Nc6...</td>\n",
       "      <td>B00</td>\n",
       "      <td>4</td>\n",
       "      <td>Nimzowitsch Defense: Kennedy Variation</td>\n",
       "      <td>Nimzowitsch Defense</td>\n",
       "      <td>NaN</td>\n",
       "      <td>Kennedy Variation</td>\n",
       "    </tr>\n",
       "  </tbody>\n",
       "</table>\n",
       "</div>"
      ],
      "text/plain": [
       "         rated  turns victory_status winner time_increment  white_id  \\\n",
       "game_id                                                                \n",
       "1        False     13    Out of Time  White           15+2  bourgris   \n",
       "2         True     16         Resign  Black           5+10      a-00   \n",
       "\n",
       "         white_rating   black_id  black_rating  \\\n",
       "game_id                                          \n",
       "1                1500       a-00          1191   \n",
       "2                1322  skinnerua          1261   \n",
       "\n",
       "                                                     moves opening_code  \\\n",
       "game_id                                                                   \n",
       "1        d4 d5 c4 c6 cxd5 e6 dxe6 fxe6 Nf3 Bb4+ Nc3 Ba5...          D10   \n",
       "2        d4 Nc6 e4 e5 f4 f6 dxe5 fxe5 fxe5 Nxe5 Qd4 Nc6...          B00   \n",
       "\n",
       "         opening_moves                        opening_fullname  \\\n",
       "game_id                                                          \n",
       "1                    5        Slav Defense: Exchange Variation   \n",
       "2                    4  Nimzowitsch Defense: Kennedy Variation   \n",
       "\n",
       "           opening_shortname opening_response   opening_variation  \n",
       "game_id                                                            \n",
       "1               Slav Defense              NaN  Exchange Variation  \n",
       "2        Nimzowitsch Defense              NaN   Kennedy Variation  "
      ]
     },
     "execution_count": 2,
     "metadata": {},
     "output_type": "execute_result"
    }
   ],
   "source": [
    "dt = pd.read_csv('chess_games.csv',index_col=0)\n",
    "dt.head(2)"
   ]
  },
  {
   "cell_type": "code",
   "execution_count": 3,
   "id": "3c2c292e",
   "metadata": {},
   "outputs": [
    {
     "data": {
      "text/plain": [
       "(20058, 16)"
      ]
     },
     "execution_count": 3,
     "metadata": {},
     "output_type": "execute_result"
    }
   ],
   "source": [
    "dt.shape"
   ]
  },
  {
   "cell_type": "code",
   "execution_count": 4,
   "id": "4d5aec30",
   "metadata": {},
   "outputs": [
    {
     "name": "stdout",
     "output_type": "stream",
     "text": [
      "<class 'pandas.core.frame.DataFrame'>\n",
      "Int64Index: 20058 entries, 1 to 20058\n",
      "Data columns (total 16 columns):\n",
      " #   Column             Non-Null Count  Dtype \n",
      "---  ------             --------------  ----- \n",
      " 0   rated              20058 non-null  bool  \n",
      " 1   turns              20058 non-null  int64 \n",
      " 2   victory_status     20058 non-null  object\n",
      " 3   winner             20058 non-null  object\n",
      " 4   time_increment     20058 non-null  object\n",
      " 5   white_id           20058 non-null  object\n",
      " 6   white_rating       20058 non-null  int64 \n",
      " 7   black_id           20058 non-null  object\n",
      " 8   black_rating       20058 non-null  int64 \n",
      " 9   moves              20058 non-null  object\n",
      " 10  opening_code       20058 non-null  object\n",
      " 11  opening_moves      20058 non-null  int64 \n",
      " 12  opening_fullname   20058 non-null  object\n",
      " 13  opening_shortname  20058 non-null  object\n",
      " 14  opening_response   1207 non-null   object\n",
      " 15  opening_variation  14398 non-null  object\n",
      "dtypes: bool(1), int64(4), object(11)\n",
      "memory usage: 2.5+ MB\n"
     ]
    }
   ],
   "source": [
    "dt.info()"
   ]
  },
  {
   "cell_type": "markdown",
   "id": "605aaf92",
   "metadata": {},
   "source": [
    "## Data Description:"
   ]
  },
  {
   "cell_type": "raw",
   "id": "d67bed62",
   "metadata": {},
   "source": [
    "Dataset is about the online-chess game and its details"
   ]
  },
  {
   "cell_type": "raw",
   "id": "27f46466",
   "metadata": {},
   "source": [
    "Data of 20,058 online-chess games with 17 features"
   ]
  },
  {
   "cell_type": "raw",
   "id": "2cfcbd9f",
   "metadata": {},
   "source": [
    "2 features have null values"
   ]
  },
  {
   "cell_type": "raw",
   "id": "3e7f314f",
   "metadata": {},
   "source": [
    "Contains 3 types of data: Boolean, Object and int"
   ]
  },
  {
   "cell_type": "code",
   "execution_count": null,
   "id": "b5dd9f92",
   "metadata": {},
   "outputs": [],
   "source": []
  },
  {
   "cell_type": "code",
   "execution_count": 5,
   "id": "8a814d07",
   "metadata": {},
   "outputs": [
    {
     "data": {
      "text/html": [
       "<div>\n",
       "<style scoped>\n",
       "    .dataframe tbody tr th:only-of-type {\n",
       "        vertical-align: middle;\n",
       "    }\n",
       "\n",
       "    .dataframe tbody tr th {\n",
       "        vertical-align: top;\n",
       "    }\n",
       "\n",
       "    .dataframe thead th {\n",
       "        text-align: right;\n",
       "    }\n",
       "</style>\n",
       "<table border=\"1\" class=\"dataframe\">\n",
       "  <thead>\n",
       "    <tr style=\"text-align: right;\">\n",
       "      <th></th>\n",
       "      <th>turns</th>\n",
       "      <th>white_rating</th>\n",
       "      <th>black_rating</th>\n",
       "      <th>opening_moves</th>\n",
       "    </tr>\n",
       "  </thead>\n",
       "  <tbody>\n",
       "    <tr>\n",
       "      <th>count</th>\n",
       "      <td>20058.000000</td>\n",
       "      <td>20058.000000</td>\n",
       "      <td>20058.000000</td>\n",
       "      <td>20058.000000</td>\n",
       "    </tr>\n",
       "    <tr>\n",
       "      <th>mean</th>\n",
       "      <td>60.465999</td>\n",
       "      <td>1596.631868</td>\n",
       "      <td>1588.831987</td>\n",
       "      <td>4.816981</td>\n",
       "    </tr>\n",
       "    <tr>\n",
       "      <th>std</th>\n",
       "      <td>33.570585</td>\n",
       "      <td>291.253376</td>\n",
       "      <td>291.036126</td>\n",
       "      <td>2.797152</td>\n",
       "    </tr>\n",
       "    <tr>\n",
       "      <th>min</th>\n",
       "      <td>1.000000</td>\n",
       "      <td>784.000000</td>\n",
       "      <td>789.000000</td>\n",
       "      <td>1.000000</td>\n",
       "    </tr>\n",
       "    <tr>\n",
       "      <th>25%</th>\n",
       "      <td>37.000000</td>\n",
       "      <td>1398.000000</td>\n",
       "      <td>1391.000000</td>\n",
       "      <td>3.000000</td>\n",
       "    </tr>\n",
       "    <tr>\n",
       "      <th>50%</th>\n",
       "      <td>55.000000</td>\n",
       "      <td>1567.000000</td>\n",
       "      <td>1562.000000</td>\n",
       "      <td>4.000000</td>\n",
       "    </tr>\n",
       "    <tr>\n",
       "      <th>75%</th>\n",
       "      <td>79.000000</td>\n",
       "      <td>1793.000000</td>\n",
       "      <td>1784.000000</td>\n",
       "      <td>6.000000</td>\n",
       "    </tr>\n",
       "    <tr>\n",
       "      <th>max</th>\n",
       "      <td>349.000000</td>\n",
       "      <td>2700.000000</td>\n",
       "      <td>2723.000000</td>\n",
       "      <td>28.000000</td>\n",
       "    </tr>\n",
       "  </tbody>\n",
       "</table>\n",
       "</div>"
      ],
      "text/plain": [
       "              turns  white_rating  black_rating  opening_moves\n",
       "count  20058.000000  20058.000000  20058.000000   20058.000000\n",
       "mean      60.465999   1596.631868   1588.831987       4.816981\n",
       "std       33.570585    291.253376    291.036126       2.797152\n",
       "min        1.000000    784.000000    789.000000       1.000000\n",
       "25%       37.000000   1398.000000   1391.000000       3.000000\n",
       "50%       55.000000   1567.000000   1562.000000       4.000000\n",
       "75%       79.000000   1793.000000   1784.000000       6.000000\n",
       "max      349.000000   2700.000000   2723.000000      28.000000"
      ]
     },
     "execution_count": 5,
     "metadata": {},
     "output_type": "execute_result"
    }
   ],
   "source": [
    "dt.describe()"
   ]
  },
  {
   "cell_type": "code",
   "execution_count": 6,
   "id": "ce5e67e4",
   "metadata": {},
   "outputs": [
    {
     "data": {
      "text/html": [
       "<div>\n",
       "<style scoped>\n",
       "    .dataframe tbody tr th:only-of-type {\n",
       "        vertical-align: middle;\n",
       "    }\n",
       "\n",
       "    .dataframe tbody tr th {\n",
       "        vertical-align: top;\n",
       "    }\n",
       "\n",
       "    .dataframe thead th {\n",
       "        text-align: right;\n",
       "    }\n",
       "</style>\n",
       "<table border=\"1\" class=\"dataframe\">\n",
       "  <thead>\n",
       "    <tr style=\"text-align: right;\">\n",
       "      <th></th>\n",
       "      <th>victory_status</th>\n",
       "      <th>winner</th>\n",
       "      <th>time_increment</th>\n",
       "      <th>white_id</th>\n",
       "      <th>black_id</th>\n",
       "      <th>moves</th>\n",
       "      <th>opening_code</th>\n",
       "      <th>opening_fullname</th>\n",
       "      <th>opening_shortname</th>\n",
       "      <th>opening_response</th>\n",
       "      <th>opening_variation</th>\n",
       "    </tr>\n",
       "  </thead>\n",
       "  <tbody>\n",
       "    <tr>\n",
       "      <th>count</th>\n",
       "      <td>20058</td>\n",
       "      <td>20058</td>\n",
       "      <td>20058</td>\n",
       "      <td>20058</td>\n",
       "      <td>20058</td>\n",
       "      <td>20058</td>\n",
       "      <td>20058</td>\n",
       "      <td>20058</td>\n",
       "      <td>20058</td>\n",
       "      <td>1207</td>\n",
       "      <td>14398</td>\n",
       "    </tr>\n",
       "    <tr>\n",
       "      <th>unique</th>\n",
       "      <td>4</td>\n",
       "      <td>3</td>\n",
       "      <td>400</td>\n",
       "      <td>9438</td>\n",
       "      <td>9331</td>\n",
       "      <td>18920</td>\n",
       "      <td>365</td>\n",
       "      <td>1477</td>\n",
       "      <td>128</td>\n",
       "      <td>3</td>\n",
       "      <td>615</td>\n",
       "    </tr>\n",
       "    <tr>\n",
       "      <th>top</th>\n",
       "      <td>Resign</td>\n",
       "      <td>White</td>\n",
       "      <td>10+0</td>\n",
       "      <td>taranga</td>\n",
       "      <td>taranga</td>\n",
       "      <td>e4 e5</td>\n",
       "      <td>A00</td>\n",
       "      <td>Van't Kruijs Opening</td>\n",
       "      <td>Sicilian Defense</td>\n",
       "      <td>Declined</td>\n",
       "      <td>#2</td>\n",
       "    </tr>\n",
       "    <tr>\n",
       "      <th>freq</th>\n",
       "      <td>11147</td>\n",
       "      <td>10001</td>\n",
       "      <td>7721</td>\n",
       "      <td>72</td>\n",
       "      <td>82</td>\n",
       "      <td>27</td>\n",
       "      <td>1007</td>\n",
       "      <td>368</td>\n",
       "      <td>2632</td>\n",
       "      <td>503</td>\n",
       "      <td>797</td>\n",
       "    </tr>\n",
       "  </tbody>\n",
       "</table>\n",
       "</div>"
      ],
      "text/plain": [
       "       victory_status winner time_increment white_id black_id  moves  \\\n",
       "count           20058  20058          20058    20058    20058  20058   \n",
       "unique              4      3            400     9438     9331  18920   \n",
       "top            Resign  White           10+0  taranga  taranga  e4 e5   \n",
       "freq            11147  10001           7721       72       82     27   \n",
       "\n",
       "       opening_code      opening_fullname opening_shortname opening_response  \\\n",
       "count         20058                 20058             20058             1207   \n",
       "unique          365                  1477               128                3   \n",
       "top             A00  Van't Kruijs Opening  Sicilian Defense         Declined   \n",
       "freq           1007                   368              2632              503   \n",
       "\n",
       "       opening_variation  \n",
       "count              14398  \n",
       "unique               615  \n",
       "top                   #2  \n",
       "freq                 797  "
      ]
     },
     "execution_count": 6,
     "metadata": {},
     "output_type": "execute_result"
    }
   ],
   "source": [
    "dt.describe(include='object')"
   ]
  },
  {
   "cell_type": "markdown",
   "id": "52044964",
   "metadata": {},
   "source": [
    "##  Preprocessing"
   ]
  },
  {
   "cell_type": "markdown",
   "id": "16ed4b52",
   "metadata": {},
   "source": [
    "### 1.Checking and Handling of missing values"
   ]
  },
  {
   "cell_type": "code",
   "execution_count": 7,
   "id": "0f0e825c",
   "metadata": {},
   "outputs": [
    {
     "data": {
      "text/plain": [
       "rated                    0\n",
       "turns                    0\n",
       "victory_status           0\n",
       "winner                   0\n",
       "time_increment           0\n",
       "white_id                 0\n",
       "white_rating             0\n",
       "black_id                 0\n",
       "black_rating             0\n",
       "moves                    0\n",
       "opening_code             0\n",
       "opening_moves            0\n",
       "opening_fullname         0\n",
       "opening_shortname        0\n",
       "opening_response     18851\n",
       "opening_variation     5660\n",
       "dtype: int64"
      ]
     },
     "execution_count": 7,
     "metadata": {},
     "output_type": "execute_result"
    }
   ],
   "source": [
    "dt.isnull().sum()"
   ]
  },
  {
   "cell_type": "markdown",
   "id": "97f26428",
   "metadata": {},
   "source": [
    "### Findings:"
   ]
  },
  {
   "cell_type": "raw",
   "id": "79afe2c8",
   "metadata": {},
   "source": [
    "* We can see last two columns have null values"
   ]
  },
  {
   "cell_type": "raw",
   "id": "0ea40915",
   "metadata": {},
   "source": [
    "* Both of them are objective type"
   ]
  },
  {
   "cell_type": "raw",
   "id": "75866431",
   "metadata": {},
   "source": [
    "* Feature 'opening_response' has more tha 70% of missing values so its dropped."
   ]
  },
  {
   "cell_type": "raw",
   "id": "1d9fd86f",
   "metadata": {},
   "source": [
    "* 'opening_variation' is filled with mode"
   ]
  },
  {
   "cell_type": "code",
   "execution_count": 8,
   "id": "45ed4098",
   "metadata": {},
   "outputs": [],
   "source": [
    "dt=dt.drop(['opening_response'],axis=1)\n",
    "dt['opening_variation'].fillna(dt['opening_variation'].mode()[0],inplace=True)"
   ]
  },
  {
   "cell_type": "code",
   "execution_count": 9,
   "id": "cd683920",
   "metadata": {},
   "outputs": [
    {
     "data": {
      "text/plain": [
       "(20058, 15)"
      ]
     },
     "execution_count": 9,
     "metadata": {},
     "output_type": "execute_result"
    }
   ],
   "source": [
    "dt.shape"
   ]
  },
  {
   "cell_type": "code",
   "execution_count": 10,
   "id": "c69a8eb9",
   "metadata": {},
   "outputs": [
    {
     "data": {
      "text/plain": [
       "rated                0\n",
       "turns                0\n",
       "victory_status       0\n",
       "winner               0\n",
       "time_increment       0\n",
       "white_id             0\n",
       "white_rating         0\n",
       "black_id             0\n",
       "black_rating         0\n",
       "moves                0\n",
       "opening_code         0\n",
       "opening_moves        0\n",
       "opening_fullname     0\n",
       "opening_shortname    0\n",
       "opening_variation    0\n",
       "dtype: int64"
      ]
     },
     "execution_count": 10,
     "metadata": {},
     "output_type": "execute_result"
    }
   ],
   "source": [
    "dt.isnull().sum()"
   ]
  },
  {
   "cell_type": "markdown",
   "id": "1f69af2a",
   "metadata": {},
   "source": [
    "### 2.Handling for outliers"
   ]
  },
  {
   "cell_type": "code",
   "execution_count": 11,
   "id": "c5a6abe1",
   "metadata": {},
   "outputs": [
    {
     "data": {
      "image/png": "[encoded data removed]",
      "text/plain": [
       "<Figure size 432x288 with 1 Axes>"
      ]
     },
     "metadata": {
      "needs_background": "light"
     },
     "output_type": "display_data"
    }
   ],
   "source": [
    "sns.boxplot(data=dt,orient='h')\n",
    "plt.title('Presence of outliers in the features')\n",
    "plt.show()"
   ]
  },
  {
   "cell_type": "code",
   "execution_count": 12,
   "id": "fc250dbb",
   "metadata": {},
   "outputs": [
    {
     "data": {
      "text/plain": [
       "True     16155\n",
       "False     3903\n",
       "Name: rated, dtype: int64"
      ]
     },
     "execution_count": 12,
     "metadata": {},
     "output_type": "execute_result"
    }
   ],
   "source": [
    "dt['rated'].value_counts()"
   ]
  },
  {
   "cell_type": "markdown",
   "id": "48616790",
   "metadata": {},
   "source": [
    "**Rated columns contain only true & false readings. i.e; it doesnt contain any valid outliers**"
   ]
  },
  {
   "cell_type": "markdown",
   "id": "82c005cf",
   "metadata": {},
   "source": [
    "### Removing outliers in the feature 'Turns','white_rating','black_rating' and 'opening_moves'"
   ]
  },
  {
   "cell_type": "code",
   "execution_count": 13,
   "id": "b9fb523f",
   "metadata": {},
   "outputs": [
    {
     "name": "stdout",
     "output_type": "stream",
     "text": [
      "Handling outliers in TURNS COLUMN: \n",
      "\n",
      "The values below -26.0 and above 142.0 are outliers.\n",
      "There are 428 outliers in turns column.\n",
      "Shape of dataset after removal of outliers in TURNS column: (19630, 15) \n",
      "\n",
      "\n",
      "Handling outliers in WHITE_RATING COLUMN: \n",
      "\n",
      "The values below 804.0 and above 2380.0 are outliers.\n",
      "There are 131 outliers in white_rating column.\n",
      "Shape of dataset after removal of outliers in WHITE_RATING column: (19506, 15) \n",
      "\n",
      "\n",
      "Handling outliers in BLACK_RATING COLUMN: \n",
      "\n",
      "The values below 803.0 and above 2363.0 are outliers.\n",
      "There are 87 outliers in black_rating column.\n",
      "Shape of dataset after removal of outliers in BLACK_RATING column: (19425, 15) \n",
      "\n",
      "\n",
      "Handling outliers in OPENING_MOVES COLUMN: \n",
      "\n",
      "The values below -1.5 and above 10.5 are outliers.\n",
      "There are 844 outliers in opening_moves column.\n",
      "Shape of dataset after removal of outliers in OPENING_MOVES column: (18581, 15) \n",
      "\n",
      "\n"
     ]
    }
   ],
   "source": [
    "out=['turns','white_rating','black_rating','opening_moves']\n",
    "ind1,ind2,i1,i2=[],[],[],[]\n",
    "\n",
    "for i in out:\n",
    "    print('Handling outliers in',i.upper(),'COLUMN: \\n')\n",
    "    Q1 = np.percentile(dt[i],25,interpolation='midpoint')\n",
    "    Q2 = np.percentile(dt[i],50,interpolation='midpoint')\n",
    "    Q3 = np.percentile(dt[i],75,interpolation='midpoint')\n",
    "    IQR = Q3 - Q1\n",
    "    low_limit = Q1 - IQR*1.5\n",
    "    up_limit = Q3 + IQR*1.5\n",
    "    \n",
    "    print('The values below',low_limit,'and above',up_limit,'are outliers.')\n",
    "    \n",
    "    outlier = []\n",
    "    for x in dt[i]:\n",
    "        if((x > up_limit) or (x < low_limit)):\n",
    "            outlier.append(x)\n",
    "    \n",
    "    print('There are',len(outlier),'outliers in',i,'column.')\n",
    "    \n",
    "    ind1,ind2=dt[i]>up_limit, dt[i]\n",
    "    i1=dt.loc[ind1].index\n",
    "    \n",
    "    dt.drop(i1,inplace=True)\n",
    "    \n",
    "    print('Shape of dataset after removal of outliers in',i.upper(),'column:',dt.shape,'\\n\\n')"
   ]
  },
  {
   "cell_type": "code",
   "execution_count": 14,
   "id": "96d23229",
   "metadata": {},
   "outputs": [
    {
     "data": {
      "image/png": "[encoded data removed]",
      "text/plain": [
       "<Figure size 432x288 with 1 Axes>"
      ]
     },
     "metadata": {
      "needs_background": "light"
     },
     "output_type": "display_data"
    }
   ],
   "source": [
    "sns.boxplot(data=dt,orient='h')\n",
    "plt.title('Box plot after the removal of outliers')\n",
    "plt.show()"
   ]
  },
  {
   "cell_type": "markdown",
   "id": "aafcc8fd",
   "metadata": {},
   "source": [
    "### 3.Standard scaling on features"
   ]
  },
  {
   "cell_type": "code",
   "execution_count": 15,
   "id": "52e38247",
   "metadata": {},
   "outputs": [],
   "source": [
    "from sklearn import preprocessing\n",
    "standardisation = preprocessing.StandardScaler()\n",
    "s=dt[['turns','white_rating','black_rating','opening_moves']]\n",
    "s=standardisation.fit_transform(s)"
   ]
  },
  {
   "cell_type": "code",
   "execution_count": 16,
   "id": "f3497f5b",
   "metadata": {},
   "outputs": [
    {
     "data": {
      "text/html": [
       "<div>\n",
       "<style scoped>\n",
       "    .dataframe tbody tr th:only-of-type {\n",
       "        vertical-align: middle;\n",
       "    }\n",
       "\n",
       "    .dataframe tbody tr th {\n",
       "        vertical-align: top;\n",
       "    }\n",
       "\n",
       "    .dataframe thead th {\n",
       "        text-align: right;\n",
       "    }\n",
       "</style>\n",
       "<table border=\"1\" class=\"dataframe\">\n",
       "  <thead>\n",
       "    <tr style=\"text-align: right;\">\n",
       "      <th></th>\n",
       "      <th>turns</th>\n",
       "      <th>white_rating</th>\n",
       "      <th>black_rating</th>\n",
       "      <th>opening_moves</th>\n",
       "    </tr>\n",
       "  </thead>\n",
       "  <tbody>\n",
       "    <tr>\n",
       "      <th>count</th>\n",
       "      <td>18581.00</td>\n",
       "      <td>18581.00</td>\n",
       "      <td>18581.00</td>\n",
       "      <td>18581.00</td>\n",
       "    </tr>\n",
       "    <tr>\n",
       "      <th>mean</th>\n",
       "      <td>0.00</td>\n",
       "      <td>0.00</td>\n",
       "      <td>-0.00</td>\n",
       "      <td>-0.00</td>\n",
       "    </tr>\n",
       "    <tr>\n",
       "      <th>std</th>\n",
       "      <td>1.00</td>\n",
       "      <td>1.00</td>\n",
       "      <td>1.00</td>\n",
       "      <td>1.00</td>\n",
       "    </tr>\n",
       "    <tr>\n",
       "      <th>min</th>\n",
       "      <td>-1.89</td>\n",
       "      <td>-2.85</td>\n",
       "      <td>-2.78</td>\n",
       "      <td>-1.55</td>\n",
       "    </tr>\n",
       "    <tr>\n",
       "      <th>25%</th>\n",
       "      <td>-0.73</td>\n",
       "      <td>-0.69</td>\n",
       "      <td>-0.68</td>\n",
       "      <td>-0.65</td>\n",
       "    </tr>\n",
       "    <tr>\n",
       "      <th>50%</th>\n",
       "      <td>-0.13</td>\n",
       "      <td>-0.09</td>\n",
       "      <td>-0.09</td>\n",
       "      <td>-0.20</td>\n",
       "    </tr>\n",
       "    <tr>\n",
       "      <th>75%</th>\n",
       "      <td>0.60</td>\n",
       "      <td>0.68</td>\n",
       "      <td>0.66</td>\n",
       "      <td>0.71</td>\n",
       "    </tr>\n",
       "    <tr>\n",
       "      <th>max</th>\n",
       "      <td>2.78</td>\n",
       "      <td>2.87</td>\n",
       "      <td>2.81</td>\n",
       "      <td>2.51</td>\n",
       "    </tr>\n",
       "  </tbody>\n",
       "</table>\n",
       "</div>"
      ],
      "text/plain": [
       "          turns  white_rating  black_rating  opening_moves\n",
       "count  18581.00      18581.00      18581.00       18581.00\n",
       "mean       0.00          0.00         -0.00          -0.00\n",
       "std        1.00          1.00          1.00           1.00\n",
       "min       -1.89         -2.85         -2.78          -1.55\n",
       "25%       -0.73         -0.69         -0.68          -0.65\n",
       "50%       -0.13         -0.09         -0.09          -0.20\n",
       "75%        0.60          0.68          0.66           0.71\n",
       "max        2.78          2.87          2.81           2.51"
      ]
     },
     "execution_count": 16,
     "metadata": {},
     "output_type": "execute_result"
    }
   ],
   "source": [
    "s=pd.DataFrame(s)\n",
    "s.columns=['turns','white_rating','black_rating','opening_moves']\n",
    "s.describe().round(2)"
   ]
  },
  {
   "cell_type": "markdown",
   "id": "720b42aa",
   "metadata": {},
   "source": [
    "# Exploratory Data Analysis (EDA)"
   ]
  },
  {
   "cell_type": "code",
   "execution_count": 17,
   "id": "5950d39f",
   "metadata": {},
   "outputs": [
    {
     "name": "stdout",
     "output_type": "stream",
     "text": [
      "Requirement already satisfied: plotly in c:\\users\\user\\anaconda3\\lib\\site-packages (5.5.0)\n",
      "Requirement already satisfied: six in c:\\users\\user\\anaconda3\\lib\\site-packages (from plotly) (1.15.0)\n",
      "Requirement already satisfied: tenacity>=6.2.0 in c:\\users\\user\\anaconda3\\lib\\site-packages (from plotly) (8.0.1)\n",
      "Note: you may need to restart the kernel to use updated packages.\n"
     ]
    }
   ],
   "source": [
    "pip install plotly"
   ]
  },
  {
   "cell_type": "code",
   "execution_count": 18,
   "id": "c74425b1",
   "metadata": {},
   "outputs": [],
   "source": [
    "import warnings\n",
    "warnings.filterwarnings('ignore')\n",
    "import plotly.express as px\n"
   ]
  },
  {
   "cell_type": "code",
   "execution_count": 19,
   "id": "71e034a1",
   "metadata": {},
   "outputs": [
    {
     "name": "stdout",
     "output_type": "stream",
     "text": [
      "Requirement already satisfied: kaleido in c:\\users\\user\\anaconda3\\lib\\site-packages (0.2.1)\n",
      "Note: you may need to restart the kernel to use updated packages.\n"
     ]
    }
   ],
   "source": [
    "pip install -U kaleido"
   ]
  },
  {
   "cell_type": "markdown",
   "id": "bc4503a8",
   "metadata": {},
   "source": [
    "## 1. What percentage of games were won by White ? How many ended in draw ?"
   ]
  },
  {
   "cell_type": "code",
   "execution_count": 20,
   "id": "a1b913a7",
   "metadata": {},
   "outputs": [
    {
     "data": {
      "text/html": [
       "<div>\n",
       "<style scoped>\n",
       "    .dataframe tbody tr th:only-of-type {\n",
       "        vertical-align: middle;\n",
       "    }\n",
       "\n",
       "    .dataframe tbody tr th {\n",
       "        vertical-align: top;\n",
       "    }\n",
       "\n",
       "    .dataframe thead th {\n",
       "        text-align: right;\n",
       "    }\n",
       "</style>\n",
       "<table border=\"1\" class=\"dataframe\">\n",
       "  <thead>\n",
       "    <tr style=\"text-align: right;\">\n",
       "      <th></th>\n",
       "      <th>Winner</th>\n",
       "      <th>Count</th>\n",
       "    </tr>\n",
       "  </thead>\n",
       "  <tbody>\n",
       "    <tr>\n",
       "      <th>0</th>\n",
       "      <td>White</td>\n",
       "      <td>9318</td>\n",
       "    </tr>\n",
       "    <tr>\n",
       "      <th>1</th>\n",
       "      <td>Black</td>\n",
       "      <td>8479</td>\n",
       "    </tr>\n",
       "    <tr>\n",
       "      <th>2</th>\n",
       "      <td>Draw</td>\n",
       "      <td>784</td>\n",
       "    </tr>\n",
       "  </tbody>\n",
       "</table>\n",
       "</div>"
      ],
      "text/plain": [
       "  Winner  Count\n",
       "0  White   9318\n",
       "1  Black   8479\n",
       "2   Draw    784"
      ]
     },
     "execution_count": 20,
     "metadata": {},
     "output_type": "execute_result"
    }
   ],
   "source": [
    "winners=pd.DataFrame(dt['winner'].value_counts().reset_index().rename(columns={'index':'Winner','winner':'Count'}))\n",
    "winners"
   ]
  },
  {
   "cell_type": "code",
   "execution_count": 21,
   "id": "6bb3d056",
   "metadata": {},
   "outputs": [
    {
     "data": {
      "image/png": "[encoded data removed]"
     },
     "metadata": {},
     "output_type": "display_data"
    }
   ],
   "source": [
    "fig=px.pie(winners,\n",
    "      title='Percentages of Wins & Draws',names='Winner',values='Count',\n",
    "      color_discrete_sequence=px.colors.qualitative.D3,\n",
    "      height=450,\n",
    "      width=500)\n",
    "fig.show('png')"
   ]
  },
  {
   "cell_type": "markdown",
   "id": "1b25e087",
   "metadata": {},
   "source": [
    "**Insight**:  With this pie chart, we can see that almost half (50.1%) of all games were won with the white pieces, 45.6% by black, and 4.22% games ended in a draw."
   ]
  },
  {
   "cell_type": "markdown",
   "id": "972cb7a6",
   "metadata": {},
   "source": [
    "## 2. Proportion of winners accoding to piece colour of winner and victory_status"
   ]
  },
  {
   "cell_type": "code",
   "execution_count": 22,
   "id": "da391836",
   "metadata": {},
   "outputs": [
    {
     "data": {
      "text/html": [
       "<div>\n",
       "<style scoped>\n",
       "    .dataframe tbody tr th:only-of-type {\n",
       "        vertical-align: middle;\n",
       "    }\n",
       "\n",
       "    .dataframe tbody tr th {\n",
       "        vertical-align: top;\n",
       "    }\n",
       "\n",
       "    .dataframe thead th {\n",
       "        text-align: right;\n",
       "    }\n",
       "</style>\n",
       "<table border=\"1\" class=\"dataframe\">\n",
       "  <thead>\n",
       "    <tr style=\"text-align: right;\">\n",
       "      <th></th>\n",
       "      <th>winner</th>\n",
       "      <th>victory_status</th>\n",
       "      <th>count</th>\n",
       "    </tr>\n",
       "  </thead>\n",
       "  <tbody>\n",
       "    <tr>\n",
       "      <th>0</th>\n",
       "      <td>White</td>\n",
       "      <td>Resign</td>\n",
       "      <td>5459</td>\n",
       "    </tr>\n",
       "    <tr>\n",
       "      <th>1</th>\n",
       "      <td>Black</td>\n",
       "      <td>Resign</td>\n",
       "      <td>4938</td>\n",
       "    </tr>\n",
       "    <tr>\n",
       "      <th>2</th>\n",
       "      <td>White</td>\n",
       "      <td>Mate</td>\n",
       "      <td>3124</td>\n",
       "    </tr>\n",
       "    <tr>\n",
       "      <th>3</th>\n",
       "      <td>Black</td>\n",
       "      <td>Mate</td>\n",
       "      <td>2796</td>\n",
       "    </tr>\n",
       "    <tr>\n",
       "      <th>5</th>\n",
       "      <td>Black</td>\n",
       "      <td>Out of Time</td>\n",
       "      <td>745</td>\n",
       "    </tr>\n",
       "    <tr>\n",
       "      <th>6</th>\n",
       "      <td>White</td>\n",
       "      <td>Out of Time</td>\n",
       "      <td>735</td>\n",
       "    </tr>\n",
       "  </tbody>\n",
       "</table>\n",
       "</div>"
      ],
      "text/plain": [
       "  winner victory_status  count\n",
       "0  White         Resign   5459\n",
       "1  Black         Resign   4938\n",
       "2  White           Mate   3124\n",
       "3  Black           Mate   2796\n",
       "5  Black    Out of Time    745\n",
       "6  White    Out of Time    735"
      ]
     },
     "execution_count": 22,
     "metadata": {},
     "output_type": "execute_result"
    }
   ],
   "source": [
    "winner_status=(pd.DataFrame(dt[['winner','victory_status']].value_counts()).reset_index().rename(columns={'Count':'winner',0:'count'}))\n",
    "winner_status=winner_status[~(winner_status['winner']=='Draw')]\n",
    "winner_status"
   ]
  },
  {
   "cell_type": "code",
   "execution_count": 23,
   "id": "fd4cc46b",
   "metadata": {},
   "outputs": [
    {
     "data": {
      "image/png": "[encoded data removed]"
     },
     "metadata": {},
     "output_type": "display_data"
    }
   ],
   "source": [
    "fig=px.bar(winner_status,\n",
    "      title='Proportion of winners by Piece colour and victory status',\n",
    "      x='victory_status',\n",
    "      y='count',\n",
    "      color='winner',\n",
    "      barmode='group',\n",
    "      height=500,\n",
    "      width=700)\n",
    "fig.show('png')"
   ]
  },
  {
   "cell_type": "markdown",
   "id": "ccbf9854",
   "metadata": {},
   "source": [
    "**Insights:**"
   ]
  },
  {
   "cell_type": "raw",
   "id": "64650c10",
   "metadata": {},
   "source": [
    "Majority are won when their mates resign from the game"
   ]
  },
  {
   "cell_type": "raw",
   "id": "46e2e00e",
   "metadata": {},
   "source": [
    "Only 32% win by giving a checkmate"
   ]
  },
  {
   "cell_type": "raw",
   "id": "c252c4a3",
   "metadata": {},
   "source": [
    "Very feeble are won by time limits"
   ]
  },
  {
   "cell_type": "raw",
   "id": "7678dfea",
   "metadata": {},
   "source": [
    "Except for out of time victory status, \"white\" have victory in all other status"
   ]
  },
  {
   "cell_type": "markdown",
   "id": "f3f5ce79",
   "metadata": {},
   "source": [
    "## 3. How many times the winner was the one that has higest rate"
   ]
  },
  {
   "cell_type": "code",
   "execution_count": 24,
   "id": "a2a0d63c",
   "metadata": {},
   "outputs": [
    {
     "data": {
      "text/html": [
       "<div>\n",
       "<style scoped>\n",
       "    .dataframe tbody tr th:only-of-type {\n",
       "        vertical-align: middle;\n",
       "    }\n",
       "\n",
       "    .dataframe tbody tr th {\n",
       "        vertical-align: top;\n",
       "    }\n",
       "\n",
       "    .dataframe thead th {\n",
       "        text-align: right;\n",
       "    }\n",
       "</style>\n",
       "<table border=\"1\" class=\"dataframe\">\n",
       "  <thead>\n",
       "    <tr style=\"text-align: right;\">\n",
       "      <th></th>\n",
       "      <th>winner</th>\n",
       "      <th>white_rating</th>\n",
       "      <th>black_rating</th>\n",
       "    </tr>\n",
       "    <tr>\n",
       "      <th>game_id</th>\n",
       "      <th></th>\n",
       "      <th></th>\n",
       "      <th></th>\n",
       "    </tr>\n",
       "  </thead>\n",
       "  <tbody>\n",
       "    <tr>\n",
       "      <th>1</th>\n",
       "      <td>White</td>\n",
       "      <td>1500</td>\n",
       "      <td>1191</td>\n",
       "    </tr>\n",
       "    <tr>\n",
       "      <th>2</th>\n",
       "      <td>Black</td>\n",
       "      <td>1322</td>\n",
       "      <td>1261</td>\n",
       "    </tr>\n",
       "    <tr>\n",
       "      <th>3</th>\n",
       "      <td>White</td>\n",
       "      <td>1496</td>\n",
       "      <td>1500</td>\n",
       "    </tr>\n",
       "    <tr>\n",
       "      <th>4</th>\n",
       "      <td>White</td>\n",
       "      <td>1439</td>\n",
       "      <td>1454</td>\n",
       "    </tr>\n",
       "    <tr>\n",
       "      <th>5</th>\n",
       "      <td>White</td>\n",
       "      <td>1523</td>\n",
       "      <td>1469</td>\n",
       "    </tr>\n",
       "  </tbody>\n",
       "</table>\n",
       "</div>"
      ],
      "text/plain": [
       "        winner  white_rating  black_rating\n",
       "game_id                                   \n",
       "1        White          1500          1191\n",
       "2        Black          1322          1261\n",
       "3        White          1496          1500\n",
       "4        White          1439          1454\n",
       "5        White          1523          1469"
      ]
     },
     "execution_count": 24,
     "metadata": {},
     "output_type": "execute_result"
    }
   ],
   "source": [
    "rate_win=dt[[\"winner\",\"white_rating\",\"black_rating\"]]\n",
    "rate_win.head()"
   ]
  },
  {
   "cell_type": "code",
   "execution_count": 25,
   "id": "0d333cee",
   "metadata": {},
   "outputs": [
    {
     "data": {
      "text/html": [
       "<div>\n",
       "<style scoped>\n",
       "    .dataframe tbody tr th:only-of-type {\n",
       "        vertical-align: middle;\n",
       "    }\n",
       "\n",
       "    .dataframe tbody tr th {\n",
       "        vertical-align: top;\n",
       "    }\n",
       "\n",
       "    .dataframe thead th {\n",
       "        text-align: right;\n",
       "    }\n",
       "</style>\n",
       "<table border=\"1\" class=\"dataframe\">\n",
       "  <thead>\n",
       "    <tr style=\"text-align: right;\">\n",
       "      <th></th>\n",
       "      <th>winner</th>\n",
       "      <th>white_rating</th>\n",
       "      <th>black_rating</th>\n",
       "      <th>w_r&gt;b_r</th>\n",
       "    </tr>\n",
       "    <tr>\n",
       "      <th>game_id</th>\n",
       "      <th></th>\n",
       "      <th></th>\n",
       "      <th></th>\n",
       "      <th></th>\n",
       "    </tr>\n",
       "  </thead>\n",
       "  <tbody>\n",
       "    <tr>\n",
       "      <th>1</th>\n",
       "      <td>White</td>\n",
       "      <td>1500</td>\n",
       "      <td>1191</td>\n",
       "      <td>True</td>\n",
       "    </tr>\n",
       "    <tr>\n",
       "      <th>2</th>\n",
       "      <td>Black</td>\n",
       "      <td>1322</td>\n",
       "      <td>1261</td>\n",
       "      <td>True</td>\n",
       "    </tr>\n",
       "    <tr>\n",
       "      <th>3</th>\n",
       "      <td>White</td>\n",
       "      <td>1496</td>\n",
       "      <td>1500</td>\n",
       "      <td>False</td>\n",
       "    </tr>\n",
       "    <tr>\n",
       "      <th>4</th>\n",
       "      <td>White</td>\n",
       "      <td>1439</td>\n",
       "      <td>1454</td>\n",
       "      <td>False</td>\n",
       "    </tr>\n",
       "    <tr>\n",
       "      <th>5</th>\n",
       "      <td>White</td>\n",
       "      <td>1523</td>\n",
       "      <td>1469</td>\n",
       "      <td>True</td>\n",
       "    </tr>\n",
       "  </tbody>\n",
       "</table>\n",
       "</div>"
      ],
      "text/plain": [
       "        winner  white_rating  black_rating  w_r>b_r\n",
       "game_id                                            \n",
       "1        White          1500          1191     True\n",
       "2        Black          1322          1261     True\n",
       "3        White          1496          1500    False\n",
       "4        White          1439          1454    False\n",
       "5        White          1523          1469     True"
      ]
     },
     "execution_count": 25,
     "metadata": {},
     "output_type": "execute_result"
    }
   ],
   "source": [
    "rate_win[\"w_r>b_r\"]=(rate_win[\"white_rating\"] > rate_win[\"black_rating\"])\n",
    "rate_win.head()"
   ]
  },
  {
   "cell_type": "code",
   "execution_count": 26,
   "id": "dc98a214",
   "metadata": {},
   "outputs": [
    {
     "data": {
      "text/html": [
       "<div>\n",
       "<style scoped>\n",
       "    .dataframe tbody tr th:only-of-type {\n",
       "        vertical-align: middle;\n",
       "    }\n",
       "\n",
       "    .dataframe tbody tr th {\n",
       "        vertical-align: top;\n",
       "    }\n",
       "\n",
       "    .dataframe thead th {\n",
       "        text-align: right;\n",
       "    }\n",
       "</style>\n",
       "<table border=\"1\" class=\"dataframe\">\n",
       "  <thead>\n",
       "    <tr style=\"text-align: right;\">\n",
       "      <th></th>\n",
       "      <th>winner</th>\n",
       "      <th>white_rating</th>\n",
       "      <th>black_rating</th>\n",
       "      <th>w_r&gt;b_r</th>\n",
       "      <th>win_rate_status</th>\n",
       "    </tr>\n",
       "    <tr>\n",
       "      <th>game_id</th>\n",
       "      <th></th>\n",
       "      <th></th>\n",
       "      <th></th>\n",
       "      <th></th>\n",
       "      <th></th>\n",
       "    </tr>\n",
       "  </thead>\n",
       "  <tbody>\n",
       "    <tr>\n",
       "      <th>1</th>\n",
       "      <td>White</td>\n",
       "      <td>1500</td>\n",
       "      <td>1191</td>\n",
       "      <td>True</td>\n",
       "      <td>high_rank win</td>\n",
       "    </tr>\n",
       "    <tr>\n",
       "      <th>2</th>\n",
       "      <td>Black</td>\n",
       "      <td>1322</td>\n",
       "      <td>1261</td>\n",
       "      <td>True</td>\n",
       "      <td>low_rank win</td>\n",
       "    </tr>\n",
       "    <tr>\n",
       "      <th>3</th>\n",
       "      <td>White</td>\n",
       "      <td>1496</td>\n",
       "      <td>1500</td>\n",
       "      <td>False</td>\n",
       "      <td>low_rank win</td>\n",
       "    </tr>\n",
       "    <tr>\n",
       "      <th>4</th>\n",
       "      <td>White</td>\n",
       "      <td>1439</td>\n",
       "      <td>1454</td>\n",
       "      <td>False</td>\n",
       "      <td>low_rank win</td>\n",
       "    </tr>\n",
       "    <tr>\n",
       "      <th>5</th>\n",
       "      <td>White</td>\n",
       "      <td>1523</td>\n",
       "      <td>1469</td>\n",
       "      <td>True</td>\n",
       "      <td>high_rank win</td>\n",
       "    </tr>\n",
       "    <tr>\n",
       "      <th>...</th>\n",
       "      <td>...</td>\n",
       "      <td>...</td>\n",
       "      <td>...</td>\n",
       "      <td>...</td>\n",
       "      <td>...</td>\n",
       "    </tr>\n",
       "    <tr>\n",
       "      <th>20054</th>\n",
       "      <td>White</td>\n",
       "      <td>1691</td>\n",
       "      <td>1220</td>\n",
       "      <td>True</td>\n",
       "      <td>high_rank win</td>\n",
       "    </tr>\n",
       "    <tr>\n",
       "      <th>20055</th>\n",
       "      <td>Black</td>\n",
       "      <td>1233</td>\n",
       "      <td>1196</td>\n",
       "      <td>True</td>\n",
       "      <td>low_rank win</td>\n",
       "    </tr>\n",
       "    <tr>\n",
       "      <th>20056</th>\n",
       "      <td>White</td>\n",
       "      <td>1219</td>\n",
       "      <td>1286</td>\n",
       "      <td>False</td>\n",
       "      <td>low_rank win</td>\n",
       "    </tr>\n",
       "    <tr>\n",
       "      <th>20057</th>\n",
       "      <td>White</td>\n",
       "      <td>1360</td>\n",
       "      <td>1227</td>\n",
       "      <td>True</td>\n",
       "      <td>high_rank win</td>\n",
       "    </tr>\n",
       "    <tr>\n",
       "      <th>20058</th>\n",
       "      <td>Black</td>\n",
       "      <td>1235</td>\n",
       "      <td>1339</td>\n",
       "      <td>False</td>\n",
       "      <td>high_rank win</td>\n",
       "    </tr>\n",
       "  </tbody>\n",
       "</table>\n",
       "<p>18581 rows × 5 columns</p>\n",
       "</div>"
      ],
      "text/plain": [
       "        winner  white_rating  black_rating  w_r>b_r win_rate_status\n",
       "game_id                                                            \n",
       "1        White          1500          1191     True   high_rank win\n",
       "2        Black          1322          1261     True    low_rank win\n",
       "3        White          1496          1500    False    low_rank win\n",
       "4        White          1439          1454    False    low_rank win\n",
       "5        White          1523          1469     True   high_rank win\n",
       "...        ...           ...           ...      ...             ...\n",
       "20054    White          1691          1220     True   high_rank win\n",
       "20055    Black          1233          1196     True    low_rank win\n",
       "20056    White          1219          1286    False    low_rank win\n",
       "20057    White          1360          1227     True   high_rank win\n",
       "20058    Black          1235          1339    False   high_rank win\n",
       "\n",
       "[18581 rows x 5 columns]"
      ]
     },
     "execution_count": 26,
     "metadata": {},
     "output_type": "execute_result"
    }
   ],
   "source": [
    "win_rate_stat=((rate_win[\"winner\"]==\"White\")&(rate_win[\"w_r>b_r\"]==True)) | ((rate_win[\"winner\"]==\"Black\")&(rate_win[\"w_r>b_r\"]==False))\n",
    "rate_win[\"win_rate_status\"]=\"low_rank win\"\n",
    "rate_win.loc[win_rate_stat,\"win_rate_status\"]=\"high_rank win\"\n",
    "rate_win"
   ]
  },
  {
   "cell_type": "code",
   "execution_count": 27,
   "id": "f9725aeb",
   "metadata": {},
   "outputs": [
    {
     "data": {
      "image/png": "[encoded data removed]"
     },
     "metadata": {},
     "output_type": "display_data"
    }
   ],
   "source": [
    "fig=px.pie(rate_win[\"win_rate_status\"].value_counts(),\n",
    "           names=rate_win[\"win_rate_status\"].value_counts().index,values=rate_win[\"win_rate_status\"].value_counts().values,\n",
    "           title=\"Player Rating vs Winnig\",\n",
    "           labels={\"names\":\"Situation \",\"values\":\"Count \"})\n",
    "fig.show('png')"
   ]
  },
  {
   "cell_type": "markdown",
   "id": "1de8f20c",
   "metadata": {},
   "source": [
    "**Insights:**"
   ]
  },
  {
   "cell_type": "markdown",
   "id": "6df14538",
   "metadata": {},
   "source": [
    "62.4% of the games are won by person with high rating"
   ]
  },
  {
   "cell_type": "markdown",
   "id": "df98c160",
   "metadata": {},
   "source": [
    "## 4.The most significant opening technique"
   ]
  },
  {
   "cell_type": "code",
   "execution_count": 28,
   "id": "21864949",
   "metadata": {},
   "outputs": [
    {
     "data": {
      "text/plain": [
       "Sicilian Defense     2236\n",
       "French Defense       1305\n",
       "Queen's Pawn Game    1196\n",
       "King's Pawn Game      896\n",
       "Queen's Gambit        827\n",
       "Name: opening_shortname, dtype: int64"
      ]
     },
     "execution_count": 28,
     "metadata": {},
     "output_type": "execute_result"
    }
   ],
   "source": [
    "opening=dt[\"opening_shortname\"].value_counts().nlargest(5)\n",
    "opening"
   ]
  },
  {
   "cell_type": "code",
   "execution_count": 29,
   "id": "6db17232",
   "metadata": {},
   "outputs": [
    {
     "data": {
      "image/png": "[encoded data removed]"
     },
     "metadata": {},
     "output_type": "display_data"
    }
   ],
   "source": [
    "fig=px.bar(y=opening.index,x=opening.values,\n",
    "           title=\"most used Oppenings\".title(),\n",
    "           labels={\"x\":\"Count \",\"y\":\"Opening Move \"},\n",
    "           text=opening.values)\n",
    "fig.show('png')"
   ]
  },
  {
   "cell_type": "markdown",
   "id": "57813ea0",
   "metadata": {},
   "source": [
    "## 5. Opening move that most frquently used in games in which black won"
   ]
  },
  {
   "cell_type": "code",
   "execution_count": 30,
   "id": "635c00dd",
   "metadata": {},
   "outputs": [
    {
     "data": {
      "text/plain": [
       "game_id\n",
       "1        d4 d5 c4 c6 cxd5 e6 dxe6 fxe6 Nf3 Bb4+ Nc3 Ba5...\n",
       "2        d4 Nc6 e4 e5 f4 f6 dxe5 fxe5 fxe5 Nxe5 Qd4 Nc6...\n",
       "3        e4 e5 d3 d6 Be3 c6 Be2 b5 Nd2 a5 a4 c5 axb5 Nc...\n",
       "4        d4 d5 Nf3 Bf5 Nc3 Nf6 Bf4 Ng4 e3 Nc6 Be2 Qd7 O...\n",
       "5        e4 e5 Nf3 d6 d4 Nc6 d5 Nb4 a3 Na6 Nc3 Be7 b4 N...\n",
       "                               ...                        \n",
       "20054    d4 f5 e3 e6 Nf3 Nf6 Nc3 b6 Be2 Bb7 O-O Be7 Ne5...\n",
       "20055    d4 d6 Bf4 e5 Bg3 Nf6 e3 exd4 exd4 d5 c3 Bd6 Bd...\n",
       "20056    d4 d5 Bf4 Nc6 e3 Nf6 c3 e6 Nf3 Be7 Bd3 O-O Nbd...\n",
       "20057    e4 d6 d4 Nf6 e5 dxe5 dxe5 Qxd1+ Kxd1 Nd5 c4 Nb...\n",
       "20058    d4 d5 Bf4 Na6 e3 e6 c3 Nf6 Nf3 Bd7 Nbd2 b5 Bd3...\n",
       "Name: moves, Length: 18581, dtype: object"
      ]
     },
     "execution_count": 30,
     "metadata": {},
     "output_type": "execute_result"
    }
   ],
   "source": [
    "dt['moves']"
   ]
  },
  {
   "cell_type": "code",
   "execution_count": 31,
   "id": "e51f1b06",
   "metadata": {},
   "outputs": [],
   "source": [
    "dt['opening_move']=dt['moves'].str.slice(0,2)"
   ]
  },
  {
   "cell_type": "code",
   "execution_count": 32,
   "id": "fbb9a39e",
   "metadata": {},
   "outputs": [
    {
     "data": {
      "text/plain": [
       "e4    5219\n",
       "d4    1893\n",
       "c4     285\n",
       "Nf     280\n",
       "e3     251\n",
       "Name: opening_move, dtype: int64"
      ]
     },
     "execution_count": 32,
     "metadata": {},
     "output_type": "execute_result"
    }
   ],
   "source": [
    "black=dt[dt['winner']=='Black'].opening_move.value_counts().nlargest(5)\n",
    "black"
   ]
  },
  {
   "cell_type": "code",
   "execution_count": 33,
   "id": "2af513b0",
   "metadata": {},
   "outputs": [
    {
     "data": {
      "image/png": "[encoded data removed]"
     },
     "metadata": {},
     "output_type": "display_data"
    }
   ],
   "source": [
    "fig=px.bar(y=black.index,x=black.values,\n",
    "          title='Most used opening moves, black wins'.title(),\n",
    "          labels={'x':'Count','y':'Move'})\n",
    "fig.show('png')"
   ]
  },
  {
   "cell_type": "markdown",
   "id": "c1bc5eca",
   "metadata": {},
   "source": [
    "## 6.Opening move that most frequently used in games in which white won"
   ]
  },
  {
   "cell_type": "code",
   "execution_count": 34,
   "id": "78a924b2",
   "metadata": {},
   "outputs": [
    {
     "data": {
      "image/png": "[encoded data removed]"
     },
     "metadata": {},
     "output_type": "display_data"
    }
   ],
   "source": [
    "white=dt[dt[\"winner\"]==\"White\"].opening_move.value_counts().nlargest(5)\n",
    "fig=px.bar(y=white.index,x=white.values,\n",
    "           title=\"most used opening moves, White wins\".title(),\n",
    "           labels={\"x\":\"Count \",\"y\":\"Move \"}).update_yaxes(categoryorder='total ascending')\n",
    "fig.show('png')"
   ]
  },
  {
   "cell_type": "markdown",
   "id": "ca248499",
   "metadata": {},
   "source": [
    "**Insights:**"
   ]
  },
  {
   "cell_type": "raw",
   "id": "5563c19b",
   "metadata": {},
   "source": [
    "* e4 is the most used opening by the competitors "
   ]
  },
  {
   "cell_type": "markdown",
   "id": "0455c988",
   "metadata": {},
   "source": [
    "## Predicting the On-line Chess winner with diffrent models"
   ]
  },
  {
   "cell_type": "markdown",
   "id": "fd9b8f9a",
   "metadata": {},
   "source": [
    "**Here we are taking the winner as target and others as features. We are having Classification problem to predict**"
   ]
  },
  {
   "cell_type": "code",
   "execution_count": 35,
   "id": "2a49fe39",
   "metadata": {},
   "outputs": [
    {
     "data": {
      "text/plain": [
       "Index(['rated', 'turns', 'victory_status', 'winner', 'time_increment',\n",
       "       'white_id', 'white_rating', 'black_id', 'black_rating', 'moves',\n",
       "       'opening_code', 'opening_moves', 'opening_fullname',\n",
       "       'opening_shortname', 'opening_variation', 'opening_move'],\n",
       "      dtype='object')"
      ]
     },
     "execution_count": 35,
     "metadata": {},
     "output_type": "execute_result"
    }
   ],
   "source": [
    "dt.columns"
   ]
  },
  {
   "cell_type": "code",
   "execution_count": 36,
   "id": "e9a0efc6",
   "metadata": {},
   "outputs": [],
   "source": [
    "dt_p=dt.drop(['rated','victory_status', 'time_increment','white_id', 'black_id','moves','opening_fullname','opening_variation','opening_move'],axis=1)"
   ]
  },
  {
   "cell_type": "code",
   "execution_count": 37,
   "id": "e0f42e47",
   "metadata": {},
   "outputs": [
    {
     "name": "stdout",
     "output_type": "stream",
     "text": [
      "<class 'pandas.core.frame.DataFrame'>\n",
      "Int64Index: 18581 entries, 1 to 20058\n",
      "Data columns (total 7 columns):\n",
      " #   Column             Non-Null Count  Dtype \n",
      "---  ------             --------------  ----- \n",
      " 0   turns              18581 non-null  int64 \n",
      " 1   winner             18581 non-null  object\n",
      " 2   white_rating       18581 non-null  int64 \n",
      " 3   black_rating       18581 non-null  int64 \n",
      " 4   opening_code       18581 non-null  object\n",
      " 5   opening_moves      18581 non-null  int64 \n",
      " 6   opening_shortname  18581 non-null  object\n",
      "dtypes: int64(4), object(3)\n",
      "memory usage: 1.1+ MB\n"
     ]
    }
   ],
   "source": [
    "dt_p.info()"
   ]
  },
  {
   "cell_type": "markdown",
   "id": "d127440f",
   "metadata": {},
   "source": [
    "**Here we are having 6 features to predict the winner with 4 integer values and 2 objects**"
   ]
  },
  {
   "cell_type": "markdown",
   "id": "8fd46652",
   "metadata": {},
   "source": [
    "### Label encoding of feature 'opening_shortname' & 'opening_code'"
   ]
  },
  {
   "cell_type": "code",
   "execution_count": 38,
   "id": "d56aa27c",
   "metadata": {},
   "outputs": [
    {
     "data": {
      "text/plain": [
       "125"
      ]
     },
     "execution_count": 38,
     "metadata": {},
     "output_type": "execute_result"
    }
   ],
   "source": [
    "dt_p['opening_shortname'].nunique()"
   ]
  },
  {
   "cell_type": "code",
   "execution_count": 39,
   "id": "a300e718",
   "metadata": {},
   "outputs": [
    {
     "data": {
      "text/plain": [
       "array([107,  72,  60,  92,  81, 106,  11,  52, 102, 118,  38,  36,  48,\n",
       "        33, 103,  88,  97,  50,  29, 124, 119,  69,  12,  91,  23,  90,\n",
       "        44, 123, 100,  10,   8,  56,   0,  17,  42,  70,  13,   1,  78,\n",
       "        49,  20,  34,  40,  80,  99,  82, 110,   9,  77, 105,  32,  55,\n",
       "        61,  84,  85,  30,  95,  71,  58, 114,  24,  31,  62,  41, 115,\n",
       "        26,  67,  18,  57, 113, 122,  15,  96,  37, 117,  83,  74,  53,\n",
       "        94,  35,  39,  22,  73,  43,  68, 112,  76,   3,  86,  75,  59,\n",
       "        51,  65,  93,  21,  66,   5, 111, 101,  28,  46,  47,  19,  64,\n",
       "        45,  14, 109,  27,   2, 120,  54, 104,   7, 108,  79,  63,  89,\n",
       "         4, 121, 116,  25,   6,  16,  87,  98])"
      ]
     },
     "execution_count": 39,
     "metadata": {},
     "output_type": "execute_result"
    }
   ],
   "source": [
    "from sklearn.preprocessing import LabelEncoder\n",
    "class_en = LabelEncoder()\n",
    "dt_p['opening_shortname']=class_en.fit_transform(dt['opening_shortname'])\n",
    "dt_p['opening_shortname'].unique()"
   ]
  },
  {
   "cell_type": "code",
   "execution_count": 40,
   "id": "831ace35",
   "metadata": {},
   "outputs": [
    {
     "data": {
      "text/plain": [
       "265"
      ]
     },
     "execution_count": 40,
     "metadata": {},
     "output_type": "execute_result"
    }
   ],
   "source": [
    "dt_p['opening_code'].nunique()"
   ]
  },
  {
   "cell_type": "code",
   "execution_count": 41,
   "id": "2de97ae6",
   "metadata": {},
   "outputs": [
    {
     "data": {
      "text/plain": [
       "array([194,  61, 128, 187, 149,  85, 185, 158,  62,   0, 114, 112, 164,\n",
       "       162,  35,  79,  24,  80, 186, 153, 191, 104, 201,  67,  40, 109,\n",
       "        82, 129,  54,  19,   4, 134, 152, 232,  36, 113,  10,  42, 121,\n",
       "       221, 207, 214,  41, 208, 169, 132,  38,   8,  64,  87,  63,  74,\n",
       "       108, 238, 233, 122, 136,  88,  50, 170, 102, 103, 229, 175,  72,\n",
       "        81,  94,  89, 166,  71, 130, 173,  73, 180,  37, 150, 192,  90,\n",
       "        21, 154,  68,   6, 165, 148,   7,   2,   3, 106, 188, 174,  29,\n",
       "       142, 156, 155,  83, 172, 256, 161, 131,   5, 227,  44, 145,   9,\n",
       "       111,   1,  92, 115, 141,  11,  55,  66, 105,  69, 138,  15,  97,\n",
       "       118,  31, 193,  28,  13, 195, 218, 210, 202,  78, 181, 124,  47,\n",
       "       264,  76, 200, 167, 228, 211, 239,  16,  95,  91, 215, 171, 182,\n",
       "        46, 196, 235,  26,  20, 189, 190, 157,  93,  32, 198,  25,  99,\n",
       "       244, 220, 107, 261, 133,  59, 258, 177, 135,  84,  75, 117,  27,\n",
       "       209,  86, 100,  98,  48, 178,  65, 241, 206,  43, 249, 242, 257,\n",
       "        45, 240, 216,  58, 204, 144,  96, 255,  17, 159, 151, 125, 230,\n",
       "        53, 143, 263, 254,  30, 246, 234,  33, 184, 137, 237,  39,  51,\n",
       "       147, 163, 126, 253, 139, 236, 217, 213,  77, 168, 247,  49,  34,\n",
       "       219, 243, 110, 251, 183, 226,  70, 248, 260, 231, 123, 101, 127,\n",
       "       262,  18, 222, 224, 205,  22,  56, 225, 212, 120, 119,  57, 146,\n",
       "       176,  12, 140, 203, 250,  52,  23, 199, 160, 259,  14,  60, 223,\n",
       "       197, 116, 245, 252, 179])"
      ]
     },
     "execution_count": 41,
     "metadata": {},
     "output_type": "execute_result"
    }
   ],
   "source": [
    "dt_p['opening_code']=class_en.fit_transform(dt['opening_code'])\n",
    "dt_p['opening_code'].unique()"
   ]
  },
  {
   "cell_type": "markdown",
   "id": "95286df4",
   "metadata": {},
   "source": [
    "### Splitting of data"
   ]
  },
  {
   "cell_type": "code",
   "execution_count": 42,
   "id": "48af78a4",
   "metadata": {},
   "outputs": [],
   "source": [
    "x=dt_p.drop(['winner'],axis=1)\n",
    "y=pd.DataFrame(dt_p['winner'])"
   ]
  },
  {
   "cell_type": "code",
   "execution_count": 43,
   "id": "75934a91",
   "metadata": {},
   "outputs": [],
   "source": [
    "from sklearn.model_selection import train_test_split\n",
    "x_train,x_test,y_train,y_test = train_test_split(x,y,random_state=42,test_size=0.3)"
   ]
  },
  {
   "cell_type": "code",
   "execution_count": 44,
   "id": "9bb42463",
   "metadata": {},
   "outputs": [
    {
     "data": {
      "text/plain": [
       "(13006, 6)"
      ]
     },
     "execution_count": 44,
     "metadata": {},
     "output_type": "execute_result"
    }
   ],
   "source": [
    "x_train.shape"
   ]
  },
  {
   "cell_type": "code",
   "execution_count": 45,
   "id": "f547d610",
   "metadata": {},
   "outputs": [
    {
     "data": {
      "text/plain": [
       "(5575, 6)"
      ]
     },
     "execution_count": 45,
     "metadata": {},
     "output_type": "execute_result"
    }
   ],
   "source": [
    "x_test.shape"
   ]
  },
  {
   "cell_type": "code",
   "execution_count": 46,
   "id": "e39590c6",
   "metadata": {},
   "outputs": [
    {
     "data": {
      "text/plain": [
       "(13006, 1)"
      ]
     },
     "execution_count": 46,
     "metadata": {},
     "output_type": "execute_result"
    }
   ],
   "source": [
    "y_train.shape"
   ]
  },
  {
   "cell_type": "code",
   "execution_count": 47,
   "id": "1030ef8c",
   "metadata": {},
   "outputs": [
    {
     "data": {
      "text/plain": [
       "(5575, 1)"
      ]
     },
     "execution_count": 47,
     "metadata": {},
     "output_type": "execute_result"
    }
   ],
   "source": [
    "y_test.shape"
   ]
  },
  {
   "cell_type": "markdown",
   "id": "a32200cf",
   "metadata": {},
   "source": [
    "## Linear Regression, KNN , Decision Tree & SVM"
   ]
  },
  {
   "cell_type": "code",
   "execution_count": 48,
   "id": "7dfad224",
   "metadata": {},
   "outputs": [],
   "source": [
    "from sklearn.linear_model import LogisticRegression\n",
    "from sklearn.neighbors import KNeighborsClassifier as KNN\n",
    "from sklearn.tree import DecisionTreeClassifier\n",
    "from sklearn.svm import SVC\n",
    "SEED=42\n",
    "lr=LogisticRegression(random_state=SEED)\n",
    "knn=KNN(n_neighbors=11)\n",
    "dtc=DecisionTreeClassifier(random_state=SEED)\n",
    "svc = SVC(kernel='rbf')\n",
    "classifiers=[('LogisticRegression',lr),('K Nearest Neighbors',knn),('Decision Tree',dtc),('SVM',svc)]\n",
    "             "
   ]
  },
  {
   "cell_type": "code",
   "execution_count": 49,
   "id": "a6af059e",
   "metadata": {},
   "outputs": [
    {
     "name": "stdout",
     "output_type": "stream",
     "text": [
      "LogisticRegression:0.63\n",
      "K Nearest Neighbors:0.61\n",
      "Decision Tree:0.58\n",
      "SVM:0.63\n"
     ]
    }
   ],
   "source": [
    "from sklearn.metrics import accuracy_score\n",
    "for class_name,clf in classifiers:\n",
    "    clf.fit(x_train,y_train)\n",
    "    y_pred=clf.predict(x_test)\n",
    "    accuracy=accuracy_score(y_test,y_pred)\n",
    "    print('{:s}:{:.2f}'.format(class_name,accuracy))"
   ]
  },
  {
   "cell_type": "markdown",
   "id": "8ead7928",
   "metadata": {},
   "source": [
    "## Voting classifier, Random forest, Gradient Boosting & Extreme gradient boosting Model"
   ]
  },
  {
   "cell_type": "code",
   "execution_count": 50,
   "id": "5b4c4dae",
   "metadata": {},
   "outputs": [],
   "source": [
    "from sklearn.ensemble import VotingClassifier\n",
    "from sklearn.ensemble import RandomForestClassifier\n",
    "from sklearn.ensemble import GradientBoostingClassifier\n",
    "from xgboost import XGBClassifier\n",
    "SEED = 42\n",
    "vc=VotingClassifier(estimators=classifiers)\n",
    "rf=RandomForestClassifier()\n",
    "gb=GradientBoostingClassifier()\n",
    "xgb=XGBClassifier()\n",
    "classifiers=[('Voting Classifier',vc),('Random Forest',rf),('Gradient Boosting',gb),('Extreme Gradient Boosting',xgb)]\n"
   ]
  },
  {
   "cell_type": "code",
   "execution_count": 51,
   "id": "dc74aa1d",
   "metadata": {},
   "outputs": [
    {
     "name": "stdout",
     "output_type": "stream",
     "text": [
      "Voting Classifier:0.63\n",
      "Random Forest:0.66\n",
      "Gradient Boosting:0.72\n",
      "[15:26:12] WARNING: D:\\bld\\xgboost-split_1637426510059\\work\\src\\learner.cc:1115: Starting in XGBoost 1.3.0, the default evaluation metric used with the objective 'multi:softprob' was changed from 'merror' to 'mlogloss'. Explicitly set eval_metric if you'd like to restore the old behavior.\n",
      "Extreme Gradient Boosting:0.85\n"
     ]
    }
   ],
   "source": [
    "for class_name,clf in classifiers:\n",
    "    clf.fit(x_train,y_train)\n",
    "    y_pred=clf.predict(x_test)\n",
    "    accuracy=accuracy_score(y_test,y_pred)\n",
    "    print('{:s}:{:.2f}'.format(class_name,accuracy))"
   ]
  },
  {
   "cell_type": "markdown",
   "id": "6471f5d6",
   "metadata": {},
   "source": [
    "**Model prediction Accuracy table**"
   ]
  },
  {
   "cell_type": "markdown",
   "id": "df332756",
   "metadata": {},
   "source": [
    "|Model|Accuracy_Score|\n",
    "|---|:-:|\n",
    "|Logistic Regression|0.63|\n",
    "|kNN|0.61|\n",
    "|Decision Tree|0.58|\n",
    "|Radial SVM|0.63|\n",
    "|Voting Classifier|0.63|\n",
    "|Random Forest|0.66|\n",
    "|Gradient Boosting|0.72|\n",
    "|**Extreme Gradient Boosting**|**0.85**|"
   ]
  },
  {
   "cell_type": "markdown",
   "id": "dc3459cf",
   "metadata": {},
   "source": [
    "### Here the best fit for our prediction is Extreme Gradient Boosting model with 85% accuracy."
   ]
  },
  {
   "cell_type": "markdown",
   "id": "f4f5bace",
   "metadata": {},
   "source": [
    "**As further step we can try tuning of hyperparameters and feature reduction in the model and check if the accuracy can be increased**"
   ]
  },
  {
   "cell_type": "markdown",
   "id": "8e66ec35",
   "metadata": {},
   "source": [
    "# Fine Tuning of hyper parameters in Extreme Gradient Boosting model"
   ]
  },
  {
   "cell_type": "code",
   "execution_count": 52,
   "id": "ddb3cc07",
   "metadata": {},
   "outputs": [
    {
     "name": "stdout",
     "output_type": "stream",
     "text": [
      "[15:26:15] WARNING: D:\\bld\\xgboost-split_1637426510059\\work\\src\\learner.cc:1115: Starting in XGBoost 1.3.0, the default evaluation metric used with the objective 'multi:softprob' was changed from 'merror' to 'mlogloss'. Explicitly set eval_metric if you'd like to restore the old behavior.\n"
     ]
    },
    {
     "data": {
      "text/plain": [
       "XGBClassifier(base_score=0.5, booster='gbtree', colsample_bylevel=1,\n",
       "              colsample_bynode=1, colsample_bytree=1, enable_categorical=False,\n",
       "              gamma=0, gpu_id=-1, importance_type=None,\n",
       "              interaction_constraints='', learning_rate=0.300000012,\n",
       "              max_delta_step=0, max_depth=6, min_child_weight=1, missing=nan,\n",
       "              monotone_constraints='()', n_estimators=100, n_jobs=4,\n",
       "              num_parallel_tree=1, objective='multi:softprob', predictor='auto',\n",
       "              random_state=0, reg_alpha=0, reg_lambda=1, scale_pos_weight=None,\n",
       "              subsample=1, tree_method='exact', validate_parameters=1,\n",
       "              verbosity=None)"
      ]
     },
     "execution_count": 52,
     "metadata": {},
     "output_type": "execute_result"
    }
   ],
   "source": [
    "xgb.fit(x_train,y_train)"
   ]
  },
  {
   "cell_type": "code",
   "execution_count": 53,
   "id": "b104b8ff",
   "metadata": {},
   "outputs": [
    {
     "name": "stdout",
     "output_type": "stream",
     "text": [
      "[15:26:17] WARNING: D:\\bld\\xgboost-split_1637426510059\\work\\src\\learner.cc:1115: Starting in XGBoost 1.3.0, the default evaluation metric used with the objective 'multi:softprob' was changed from 'merror' to 'mlogloss'. Explicitly set eval_metric if you'd like to restore the old behavior.\n"
     ]
    },
    {
     "data": {
      "text/plain": [
       "XGBClassifier(base_score=0.5, booster='gbtree', colsample_bylevel=1,\n",
       "              colsample_bynode=1, colsample_bytree=1, enable_categorical=False,\n",
       "              gamma=0, gpu_id=-1, importance_type=None,\n",
       "              interaction_constraints='', learning_rate=0.300000012,\n",
       "              max_delta_step=0, max_depth=10, min_child_weight=1, missing=nan,\n",
       "              monotone_constraints='()', n_estimators=500, n_jobs=4,\n",
       "              num_parallel_tree=1, objective='multi:softprob', predictor='auto',\n",
       "              random_state=42, reg_alpha=0, reg_lambda=1, scale_pos_weight=None,\n",
       "              subsample=1, tree_method='exact', validate_parameters=1,\n",
       "              verbosity=None)"
      ]
     },
     "execution_count": 53,
     "metadata": {},
     "output_type": "execute_result"
    }
   ],
   "source": [
    "xgbt=XGBClassifier(n_estimators=500,max_depth=10,random_state=42)\n",
    "xgbt.fit(x_train,y_train)"
   ]
  },
  {
   "cell_type": "code",
   "execution_count": 54,
   "id": "51b4e71e",
   "metadata": {},
   "outputs": [
    {
     "data": {
      "text/plain": [
       "0.84"
      ]
     },
     "execution_count": 54,
     "metadata": {},
     "output_type": "execute_result"
    }
   ],
   "source": [
    "y_pred=xgbt.predict(x_test)\n",
    "round(accuracy_score(y_test,y_pred),2)"
   ]
  },
  {
   "cell_type": "markdown",
   "id": "12fba959",
   "metadata": {},
   "source": [
    "**After fine tuning of hyperparameters the accuracy score reduced from 85% to 84%. So its not advisable in this modelling**"
   ]
  },
  {
   "cell_type": "markdown",
   "id": "ffa3ba80",
   "metadata": {},
   "source": [
    "### Checking feature importance in Extreme Gradient Model"
   ]
  },
  {
   "cell_type": "code",
   "execution_count": 55,
   "id": "b6dc16d8",
   "metadata": {},
   "outputs": [
    {
     "data": {
      "text/plain": [
       "turns                44.346325\n",
       "white_rating         17.930864\n",
       "black_rating         14.190485\n",
       "opening_code          8.429999\n",
       "opening_shortname     7.742883\n",
       "opening_moves         7.359448\n",
       "dtype: float32"
      ]
     },
     "execution_count": 55,
     "metadata": {},
     "output_type": "execute_result"
    }
   ],
   "source": [
    "pd.Series(xgb.feature_importances_,index=x.columns).sort_values(ascending=False)*100"
   ]
  },
  {
   "cell_type": "markdown",
   "id": "d180f8f8",
   "metadata": {},
   "source": [
    "**Here all the features are having importance so its not advisable to drop any of the features**"
   ]
  },
  {
   "cell_type": "code",
   "execution_count": null,
   "id": "0d1f9d52",
   "metadata": {},
   "outputs": [],
   "source": []
  },
  {
   "cell_type": "code",
   "execution_count": null,
   "id": "f4684a78",
   "metadata": {},
   "outputs": [],
   "source": []
  }
 ],
 "metadata": {
  "kernelspec": {
   "display_name": "Python 3",
   "language": "python",
   "name": "python3"
  },
  "language_info": {
   "codemirror_mode": {
    "name": "ipython",
    "version": 3
   },
   "file_extension": ".py",
   "mimetype": "text/x-python",
   "name": "python",
   "nbconvert_exporter": "python",
   "pygments_lexer": "ipython3",
   "version": "3.8.8"
  }
 },
 "nbformat": 4,
 "nbformat_minor": 5
}
